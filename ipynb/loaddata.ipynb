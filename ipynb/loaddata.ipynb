{
 "cells": [
  {
   "cell_type": "code",
   "execution_count": 1,
   "metadata": {},
   "outputs": [],
   "source": [
    "import sys\n",
    "\n",
    "sys.path.append(\"../src\")\n",
    "from tokenizer import get_tokenizer, get_data\n",
    "from torch.utils.data import Dataset, DataLoader\n",
    "from CustomDataLoader import CustomDataset\n",
    "\n",
    "\n",
    "dataset_path = (\n",
    "    \"/Users/shusanketbasyal/.cache/kagglehub/datasets/jigarpanjiyar/english-to-manipuri-dataset/versions/1\"\n",
    "    + \"//english-nepali.xlsx\"\n",
    ")\n",
    "\n",
    "engtokenizer, neptokenizer = get_tokenizer(dataset_path)\n",
    "\n",
    "df_train, df_test = get_data(dataset_path, split=True)"
   ]
  },
  {
   "cell_type": "code",
   "execution_count": 13,
   "metadata": {},
   "outputs": [
    {
     "data": {
      "text/plain": [
       "(30000, 30000)"
      ]
     },
     "execution_count": 13,
     "metadata": {},
     "output_type": "execute_result"
    }
   ],
   "source": [
    "engvocabsize = engtokenizer.get_vocab_size()\n",
    "nepvocabsize = neptokenizer.get_vocab_size()\n",
    "engvocabsize, nepvocabsize"
   ]
  },
  {
   "cell_type": "code",
   "execution_count": 2,
   "metadata": {},
   "outputs": [],
   "source": [
    "df_train_dataset = CustomDataset(\n",
    "    df_train, engtokenizer, neptokenizer, \"eng\", \"nep\", 256\n",
    ")\n",
    "df_test_dataset = CustomDataset(df_test, engtokenizer, neptokenizer, \"eng\", \"nep\", 256)"
   ]
  },
  {
   "cell_type": "code",
   "execution_count": 6,
   "metadata": {},
   "outputs": [],
   "source": [
    "df_train_dataloader = DataLoader(df_train_dataset, batch_size=1, shuffle=True)"
   ]
  },
  {
   "cell_type": "code",
   "execution_count": 74,
   "metadata": {},
   "outputs": [
    {
     "name": "stdout",
     "output_type": "stream",
     "text": [
      "torch.Size([1, 256])\n",
      "torch.Size([1, 256])\n",
      "torch.Size([1, 256])\n",
      "torch.Size([1, 256])\n",
      "torch.Size([1, 256, 256])\n"
     ]
    }
   ],
   "source": [
    "for x in df_train_dataloader:\n",
    "    enc_input = x[\"encoder_input\"]\n",
    "    dec_input = x[\"decoder_input\"]\n",
    "    enc_mask = x[\"encoder_mask\"]\n",
    "    dec_mask = x[\"decoder_mask\"]\n",
    "\n",
    "    print(enc_input.shape)\n",
    "    print(dec_input.shape)\n",
    "    print(x[\"label\"].shape)\n",
    "    print(enc_mask.shape)\n",
    "    print(dec_mask.shape)\n",
    "\n",
    "    break"
   ]
  },
  {
   "cell_type": "code",
   "execution_count": 8,
   "metadata": {},
   "outputs": [
    {
     "name": "stdout",
     "output_type": "stream",
     "text": [
      "Done with data loader working on Model Implementation\n"
     ]
    }
   ],
   "source": [
    "print(\"Done with data loader working on Model Implementation\")"
   ]
  },
  {
   "cell_type": "code",
   "execution_count": 14,
   "metadata": {},
   "outputs": [],
   "source": [
    "# kinda global variable\n",
    "seq_len = 256\n",
    "embdim = 512\n",
    "vocab_size = engvocabsize"
   ]
  },
  {
   "cell_type": "code",
   "execution_count": 19,
   "metadata": {},
   "outputs": [],
   "source": [
    "import torch\n",
    "import torch.nn as nn"
   ]
  },
  {
   "cell_type": "code",
   "execution_count": 16,
   "metadata": {},
   "outputs": [],
   "source": [
    "class InputEmbeddings(nn.Module):\n",
    "    def __init__(self, vocab_size, embdim):\n",
    "\n",
    "        super().__init__()\n",
    "        self.embeddings = nn.Embedding(vocab_size, embdim)\n",
    "\n",
    "    def forward(self, x):\n",
    "        return self.embeddings(x)"
   ]
  },
  {
   "cell_type": "code",
   "execution_count": 30,
   "metadata": {},
   "outputs": [],
   "source": [
    "class PositionalEmbeddings(nn.Module):\n",
    "    def __init__(self, seq_len, embdim):\n",
    "        super().__init__()\n",
    "\n",
    "        # self.pe is the lookup matrix where each row represents a position\n",
    "        # shape  = (SEQ_LEN, EMBDIM)\n",
    "        self.pe = torch.zeros(seq_len, embdim, dtype=torch.float32)\n",
    "        # positions is just the sequence of the position from 0,seq_len, shape => (SEQ_LEN, 1)\n",
    "        positions = torch.arange(0, seq_len, dtype=torch.float32).unsqueeze(1)\n",
    "        # SHAPE(256)\n",
    "        emb_skip_dim = torch.arange(0, embdim, step=2, dtype=torch.float32)\n",
    "        # (seqlen, 1) / (256) => (seqlen, 256)\n",
    "        z = positions / (10000 ** (emb_skip_dim / embdim))\n",
    "        # even 256\n",
    "        self.pe[:, 0::2] = torch.sin(z)\n",
    "        # odd 256\n",
    "        self.pe[:, 1::2] = torch.cos(z)\n",
    "\n",
    "        # shape of self.pe => (SEQ_LEN, EMBDIM)\n",
    "        # NEED TO ADD BATCH DIM\n",
    "        self.pe = self.pe.unsqueeze(0)\n",
    "        self.pe = nn.Parameter(self.pe, requires_grad=False)\n",
    "\n",
    "    def forward(self, x):\n",
    "        B, T, C = x.shape\n",
    "        # for training all will have T but when generating not all will have seq of T\n",
    "        x = x + self.pe[:, :T, :]\n",
    "        return x"
   ]
  },
  {
   "cell_type": "code",
   "execution_count": 32,
   "metadata": {},
   "outputs": [],
   "source": [
    "# enc_input, dec_input\n",
    "model1 = InputEmbeddings(vocab_size, embdim)\n",
    "model2 = PositionalEmbeddings(seq_len, embdim)"
   ]
  },
  {
   "cell_type": "code",
   "execution_count": 33,
   "metadata": {},
   "outputs": [
    {
     "data": {
      "text/plain": [
       "torch.Size([1, 256])"
      ]
     },
     "execution_count": 33,
     "metadata": {},
     "output_type": "execute_result"
    }
   ],
   "source": [
    "enc_input.shape\n",
    "# (B, SEQ_LEN)"
   ]
  },
  {
   "cell_type": "code",
   "execution_count": 36,
   "metadata": {},
   "outputs": [
    {
     "data": {
      "text/plain": [
       "torch.Size([1, 256, 512])"
      ]
     },
     "execution_count": 36,
     "metadata": {},
     "output_type": "execute_result"
    }
   ],
   "source": [
    "x1 = model1(enc_input)\n",
    "x1.shape\n",
    "# B, T, C"
   ]
  },
  {
   "cell_type": "code",
   "execution_count": 37,
   "metadata": {},
   "outputs": [
    {
     "data": {
      "text/plain": [
       "torch.Size([1, 256, 512])"
      ]
     },
     "execution_count": 37,
     "metadata": {},
     "output_type": "execute_result"
    }
   ],
   "source": [
    "x2 = model2(x1)\n",
    "x2.shape"
   ]
  },
  {
   "cell_type": "code",
   "execution_count": 101,
   "metadata": {},
   "outputs": [],
   "source": [
    "class MultiHeadAttention(nn.Module):\n",
    "    def __init__(self, embdim, num_heads):\n",
    "        super().__init__()\n",
    "        self.query = nn.Linear(embdim, embdim)\n",
    "        self.key = nn.Linear(embdim, embdim)\n",
    "        self.value = nn.Linear(embdim, embdim)\n",
    "        # after computation, this is used for projection\n",
    "        self.proj = nn.Linear(embdim, embdim)\n",
    "        self.num_heads = num_heads\n",
    "        assert embdim % self.num_heads == 0, \"{embdim} is not divisible by {num_heads}\"\n",
    "        self.head_dim = embdim // num_heads\n",
    "\n",
    "    @staticmethod\n",
    "    def attention(q, k, v, mask):\n",
    "        head_dim = q.shape[-1]\n",
    "\n",
    "        attention_scores = (q @ k.transpose(-2, -1)) / (head_dim) ** (1 / 2)\n",
    "        if mask is not None:\n",
    "            attention_scores.masked_fill(mask == 0, float(\"-inf\"))\n",
    "\n",
    "        attention_scores = attention_scores.softmax(dim=-1)\n",
    "\n",
    "        return (attention_scores @ v), attention_scores\n",
    "\n",
    "    def forward(self, q, k, v, mask):\n",
    "        B, T, C = x.shape\n",
    "        # (B,T,C) => (B,T,C)\n",
    "        q = self.query(q)\n",
    "        k = self.key(k)\n",
    "        v = self.key(v)\n",
    "\n",
    "        # reshape\n",
    "        # (B,T,C) => (B,NH, T, H)\n",
    "        q = q.view(B, T, self.num_heads, self.head_dim).transpose(1, 2)\n",
    "        k = k.view(B, T, self.num_heads, self.head_dim).transpose(1, 2)\n",
    "        v = v.view(B, T, self.num_heads, self.head_dim).transpose(1, 2)\n",
    "\n",
    "        output, attentionscores = MultiHeadAttention.attention(q, k, v, mask)\n",
    "        # shape of output => (B,NH, SEQ, HDIM)\n",
    "        # TO => (B, SEQ, EMBDIM)\n",
    "        output = output.transpose(1, 2).contiguous().view(B, T, C)\n",
    "        return self.proj(output)"
   ]
  },
  {
   "cell_type": "code",
   "execution_count": 102,
   "metadata": {},
   "outputs": [
    {
     "data": {
      "text/plain": [
       "(torch.Size([1, 256]), torch.Size([1, 256]))"
      ]
     },
     "execution_count": 102,
     "metadata": {},
     "output_type": "execute_result"
    }
   ],
   "source": [
    "enc_input.shape, enc_mask.shape"
   ]
  },
  {
   "cell_type": "code",
   "execution_count": 104,
   "metadata": {},
   "outputs": [
    {
     "data": {
      "text/plain": [
       "torch.Size([1, 256, 512])"
      ]
     },
     "execution_count": 104,
     "metadata": {},
     "output_type": "execute_result"
    }
   ],
   "source": [
    "a = nn.Linear(embdim, embdim)\n",
    "b = nn.Linear(embdim, embdim)\n",
    "x = PositionalEmbeddings(seq_len, embdim)(\n",
    "    InputEmbeddings(vocab_size, embdim)(enc_input)\n",
    ")\n",
    "x = MultiHeadAttention(embdim, 8)(x, x, x, dec_mask)\n",
    "x.shape"
   ]
  },
  {
   "cell_type": "code",
   "execution_count": 90,
   "metadata": {},
   "outputs": [],
   "source": [
    "q = a(x)\n",
    "k = b(x)"
   ]
  },
  {
   "cell_type": "code",
   "execution_count": 91,
   "metadata": {},
   "outputs": [],
   "source": [
    "B, T, C = q.shape"
   ]
  },
  {
   "cell_type": "code",
   "execution_count": 92,
   "metadata": {},
   "outputs": [],
   "source": [
    "q = q.view(B, T, 8, 64).transpose(1, 2)\n",
    "k = k.view(B, T, 8, 64).transpose(1, 2)"
   ]
  },
  {
   "cell_type": "code",
   "execution_count": 93,
   "metadata": {},
   "outputs": [
    {
     "data": {
      "text/plain": [
       "(torch.Size([1, 8, 256, 64]), torch.Size([1, 8, 256, 64]))"
      ]
     },
     "execution_count": 93,
     "metadata": {},
     "output_type": "execute_result"
    }
   ],
   "source": [
    "q.shape, k.shape"
   ]
  },
  {
   "cell_type": "code",
   "execution_count": 94,
   "metadata": {},
   "outputs": [],
   "source": [
    "wei = q @ k.transpose(-2, -1)"
   ]
  },
  {
   "cell_type": "code",
   "execution_count": 95,
   "metadata": {},
   "outputs": [
    {
     "data": {
      "text/plain": [
       "(torch.Size([1, 8, 256, 256]), torch.Size([1, 256, 256]))"
      ]
     },
     "execution_count": 95,
     "metadata": {},
     "output_type": "execute_result"
    }
   ],
   "source": [
    "wei.shape, dec_mask.shape"
   ]
  },
  {
   "cell_type": "code",
   "execution_count": 96,
   "metadata": {},
   "outputs": [
    {
     "data": {
      "text/plain": [
       "tensor([1, 0, 0, 0, 0, 0, 0, 0, 0, 0], dtype=torch.int32)"
      ]
     },
     "execution_count": 96,
     "metadata": {},
     "output_type": "execute_result"
    }
   ],
   "source": [
    "dec_mask[0][0][:10]"
   ]
  },
  {
   "cell_type": "code",
   "execution_count": 105,
   "metadata": {},
   "outputs": [
    {
     "data": {
      "text/plain": [
       "torch.Size([1, 8, 256, 256])"
      ]
     },
     "execution_count": 105,
     "metadata": {},
     "output_type": "execute_result"
    }
   ],
   "source": [
    "wei.shape"
   ]
  },
  {
   "cell_type": "code",
   "execution_count": null,
   "metadata": {},
   "outputs": [],
   "source": []
  }
 ],
 "metadata": {
  "kernelspec": {
   "display_name": "base",
   "language": "python",
   "name": "python3"
  },
  "language_info": {
   "codemirror_mode": {
    "name": "ipython",
    "version": 3
   },
   "file_extension": ".py",
   "mimetype": "text/x-python",
   "name": "python",
   "nbconvert_exporter": "python",
   "pygments_lexer": "ipython3",
   "version": "3.12.4"
  }
 },
 "nbformat": 4,
 "nbformat_minor": 2
}
