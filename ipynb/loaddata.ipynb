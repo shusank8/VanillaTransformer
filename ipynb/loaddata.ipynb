{
 "cells": [
  {
   "cell_type": "code",
   "execution_count": 1,
   "metadata": {},
   "outputs": [],
   "source": [
    "import sys\n",
    "\n",
    "sys.path.append(\"../src\")\n",
    "from tokenizer import get_tokenizer, get_data\n",
    "from torch.utils.data import Dataset, DataLoader\n",
    "from CustomDataLoader import CustomDataset\n",
    "\n",
    "\n",
    "dataset_path = (\n",
    "    \"/Users/shusanketbasyal/.cache/kagglehub/datasets/jigarpanjiyar/english-to-manipuri-dataset/versions/1\"\n",
    "    + \"//english-nepali.xlsx\"\n",
    ")\n",
    "\n",
    "engtokenizer, neptokenizer = get_tokenizer(dataset_path)\n",
    "\n",
    "df_train, df_test = get_data(dataset_path, split=True)"
   ]
  },
  {
   "cell_type": "code",
   "execution_count": 2,
   "metadata": {},
   "outputs": [
    {
     "data": {
      "text/plain": [
       "(30000, 30000)"
      ]
     },
     "execution_count": 2,
     "metadata": {},
     "output_type": "execute_result"
    }
   ],
   "source": [
    "engvocabsize = engtokenizer.get_vocab_size()\n",
    "nepvocabsize = neptokenizer.get_vocab_size()\n",
    "engvocabsize, nepvocabsize"
   ]
  },
  {
   "cell_type": "code",
   "execution_count": 3,
   "metadata": {},
   "outputs": [],
   "source": [
    "# from tokenizer import get_tokenizer, get_data\n",
    "# from torch.utils.data import Dataset, DataLoader\n",
    "# from CustomDataLoader import CustomDataset\n",
    "\n",
    "\n",
    "# dataset_path =  \"/Users/shusanketbasyal/.cache/kagglehub/datasets/jigarpanjiyar/english-to-manipuri-dataset/versions/1\"+\"//english-nepali.xlsx\"\n",
    "\n",
    "# engtokenizer, neptokenizer  = get_tokenizer(dataset_path)\n",
    "\n",
    "# df_train, df_test = get_data(dataset_path, split=True)\n",
    "\n",
    "# df_train_dataset = CustomDataset(df_train, engtokenizer, neptokenizer, \"eng\", \"nep\", 256)\n",
    "# df_test_dataset = CustomDataset(df_test, engtokenizer, neptokenizer, \"eng\", \"nep\", 256)\n",
    "\n",
    "\n",
    "# df_train_dataloader = DataLoader(df_train_dataset, batch_size=2, shuffle=True)"
   ]
  },
  {
   "cell_type": "code",
   "execution_count": 4,
   "metadata": {},
   "outputs": [],
   "source": [
    "df_train_dataset = CustomDataset(\n",
    "    df_train, engtokenizer, neptokenizer, \"eng\", \"nep\", 256\n",
    ")\n",
    "df_test_dataset = CustomDataset(df_test, engtokenizer, neptokenizer, \"eng\", \"nep\", 256)"
   ]
  },
  {
   "cell_type": "code",
   "execution_count": 5,
   "metadata": {},
   "outputs": [],
   "source": [
    "df_train_dataloader = DataLoader(df_train_dataset, batch_size=1, shuffle=True)"
   ]
  },
  {
   "cell_type": "code",
   "execution_count": 6,
   "metadata": {},
   "outputs": [
    {
     "name": "stdout",
     "output_type": "stream",
     "text": [
      "torch.Size([1, 256])\n",
      "torch.Size([1, 256])\n",
      "torch.Size([1, 256])\n",
      "torch.Size([1, 256])\n",
      "torch.Size([1, 256, 256])\n"
     ]
    }
   ],
   "source": [
    "for x in df_train_dataloader:\n",
    "    enc_input = x[\"encoder_input\"]\n",
    "    dec_input = x[\"decoder_input\"]\n",
    "    enc_mask = x[\"encoder_mask\"]\n",
    "    dec_mask = x[\"decoder_mask\"]\n",
    "\n",
    "    print(enc_input.shape)\n",
    "    print(dec_input.shape)\n",
    "    print(x[\"label\"].shape)\n",
    "    print(enc_mask.shape)\n",
    "    print(dec_mask.shape)\n",
    "\n",
    "    break"
   ]
  },
  {
   "cell_type": "code",
   "execution_count": 7,
   "metadata": {},
   "outputs": [
    {
     "name": "stdout",
     "output_type": "stream",
     "text": [
      "Done with data loader working on Model Implementation\n"
     ]
    }
   ],
   "source": [
    "print(\"Done with data loader working on Model Implementation\")"
   ]
  },
  {
   "cell_type": "code",
   "execution_count": 8,
   "metadata": {},
   "outputs": [],
   "source": [
    "# kinda global variable\n",
    "seq_len = 256\n",
    "embdim = 512\n",
    "vocab_size = engvocabsize"
   ]
  },
  {
   "cell_type": "code",
   "execution_count": 9,
   "metadata": {},
   "outputs": [],
   "source": [
    "import torch\n",
    "import torch.nn as nn"
   ]
  },
  {
   "cell_type": "code",
   "execution_count": 10,
   "metadata": {},
   "outputs": [],
   "source": [
    "class InputEmbeddings(nn.Module):\n",
    "    def __init__(self, vocab_size, embdim):\n",
    "\n",
    "        super().__init__()\n",
    "        self.embeddings = nn.Embedding(vocab_size, embdim)\n",
    "\n",
    "    def forward(self, x):\n",
    "        return self.embeddings(x)"
   ]
  },
  {
   "cell_type": "code",
   "execution_count": 12,
   "metadata": {},
   "outputs": [
    {
     "data": {
      "text/plain": [
       "torch.Size([1, 256, 512])"
      ]
     },
     "execution_count": 12,
     "metadata": {},
     "output_type": "execute_result"
    }
   ],
   "source": [
    "model = InputEmbeddings(vocab_size, embdim)\n",
    "out = model(enc_input)\n",
    "out.shape"
   ]
  },
  {
   "cell_type": "code",
   "execution_count": null,
   "metadata": {},
   "outputs": [],
   "source": [
    "class PositionalEmbeddings(nn.Module):\n",
    "    def __init__(self, seq_len, embdim):\n",
    "        super().__init__()\n",
    "\n",
    "        # self.pe is the lookup matrix where each row represents a position\n",
    "        # shape  = (SEQ_LEN, EMBDIM)\n",
    "        self.pe = torch.zeros(seq_len, embdim, dtype=torch.float32)\n",
    "        # positions is just the sequence of the position from 0,seq_len, shape => (SEQ_LEN, 1)\n",
    "        positions = torch.arange(0, seq_len, dtype=torch.float32).unsqueeze(1)\n",
    "        # SHAPE(256)\n",
    "        emb_skip_dim = torch.arange(0, embdim, step=2, dtype=torch.float32)\n",
    "        # (seqlen, 1) / (256) => (seqlen, 256)\n",
    "        z = positions / (10000 ** (emb_skip_dim / embdim))\n",
    "        # even 256\n",
    "        self.pe[:, 0::2] = torch.sin(z)\n",
    "        # odd 256\n",
    "        self.pe[:, 1::2] = torch.cos(z)\n",
    "\n",
    "        # shape of self.pe => (SEQ_LEN, EMBDIM)\n",
    "        # NEED TO ADD BATCH DIM\n",
    "        self.pe = self.pe.unsqueeze(0)\n",
    "        self.pe = nn.Parameter(self.pe, requires_grad=False)\n",
    "\n",
    "    def forward(self, x):\n",
    "        B, T, C = x.shape\n",
    "        # for training all will have T but when generating not all will have seq of T\n",
    "        x = x + self.pe[:, :T, :]\n",
    "        return x"
   ]
  },
  {
   "cell_type": "code",
   "execution_count": null,
   "metadata": {},
   "outputs": [],
   "source": [
    "class MultiHeadAttention(nn.Module):\n",
    "    def __init__(self, embdim, num_heads):\n",
    "        super().__init__()\n",
    "        self.query = nn.Linear(embdim, embdim)\n",
    "        self.key = nn.Linear(embdim, embdim)\n",
    "        self.value = nn.Linear(embdim, embdim)\n",
    "        # after computation, this is used for projection\n",
    "        self.proj = nn.Linear(embdim, embdim)\n",
    "        self.num_heads = num_heads\n",
    "        assert embdim % self.num_heads == 0, \"{embdim} is not divisible by {num_heads}\"\n",
    "        self.head_dim = embdim // num_heads\n",
    "\n",
    "    @staticmethod\n",
    "    def attention(q, k, v, mask):\n",
    "        head_dim = q.shape[-1]\n",
    "\n",
    "        attention_scores = (q @ k.transpose(-2, -1)) / (head_dim) ** (1 / 2)\n",
    "        if mask is not None:\n",
    "            attention_scores.masked_fill(mask == 0, float(\"-inf\"))\n",
    "\n",
    "        attention_scores = attention_scores.softmax(dim=-1)\n",
    "\n",
    "        return (attention_scores @ v), attention_scores\n",
    "\n",
    "    def forward(self, q, k, v, mask):\n",
    "        B, T, C = x.shape\n",
    "        # (B,T,C) => (B,T,C)\n",
    "        q = self.query(q)\n",
    "        k = self.key(k)\n",
    "        v = self.key(v)\n",
    "\n",
    "        # reshape\n",
    "        # (B,T,C) => (B,NH, T, H)\n",
    "        q = q.view(B, T, self.num_heads, self.head_dim).transpose(1, 2)\n",
    "        k = k.view(B, T, self.num_heads, self.head_dim).transpose(1, 2)\n",
    "        v = v.view(B, T, self.num_heads, self.head_dim).transpose(1, 2)\n",
    "\n",
    "        output, attentionscores = MultiHeadAttention.attention(q, k, v, mask)\n",
    "        # shape of output => (B,NH, SEQ, HDIM)\n",
    "        # TO => (B, SEQ, EMBDIM)\n",
    "        output = output.transpose(1, 2).contiguous().view(B, T, C)\n",
    "        return self.proj(output)"
   ]
  },
  {
   "cell_type": "code",
   "execution_count": null,
   "metadata": {},
   "outputs": [],
   "source": [
    "enc_input.shape, enc_mask.shape, dec_input.shape, dec_mask.shape"
   ]
  },
  {
   "cell_type": "code",
   "execution_count": null,
   "metadata": {},
   "outputs": [],
   "source": [
    "class FeedForward(nn.Module):\n",
    "    def __init__(self, embdim):\n",
    "        super().__init__()\n",
    "        self.model = nn.Sequential(\n",
    "            nn.Linear(embdim, 4 * embdim), nn.ReLU(), nn.Linear(4 * embdim, embdim)\n",
    "        )\n",
    "\n",
    "    def forward(self, x):\n",
    "        return self.model(x)"
   ]
  },
  {
   "cell_type": "code",
   "execution_count": null,
   "metadata": {},
   "outputs": [],
   "source": [
    "class LayerNormalization(nn.Module):\n",
    "\n",
    "    def __init__(self, embdim):\n",
    "        super().__init__()\n",
    "        self.embdim = embdim\n",
    "        self.alpha = torch.ones(embdim)\n",
    "        self.beta = torch.zeros(embdim)\n",
    "\n",
    "    def forward(self, x):\n",
    "        xmean = x.mean(dim=-1, keepdim=True)\n",
    "        xstd = x.std(dim=-1, keepdim=True)\n",
    "        return self.alpha * ((x - xmean) / xstd + 1e-6) + self.beta"
   ]
  },
  {
   "cell_type": "code",
   "execution_count": null,
   "metadata": {},
   "outputs": [],
   "source": [
    "class EncoderBlock(nn.Module):\n",
    "    def __init__(self, embdim, num_heads):\n",
    "        super().__init__()\n",
    "        self.attn = MultiHeadAttention(embdim, num_heads)\n",
    "        self.feedfwd = FeedForward(embdim)\n",
    "        self.layernorm1 = LayerNormalization(embdim)\n",
    "        self.layernorm2 = LayerNormalization(embdim)\n",
    "\n",
    "    def forward(self, x, mask):\n",
    "        x = x + self.attn(x, x, x, mask)\n",
    "        x = self.layernorm1(x)\n",
    "        x = x + self.feedfwd(x)\n",
    "        return self.layernorm2(x)"
   ]
  },
  {
   "cell_type": "code",
   "execution_count": null,
   "metadata": {},
   "outputs": [],
   "source": [
    "class DecoderBlock(nn.Module):\n",
    "    def __init__(self, embdim, num_heads):\n",
    "        super().__init__()\n",
    "        self.attn = MultiHeadAttention(embdim, num_heads)\n",
    "        self.cross_attn = MultiHeadAttention(embdim, num_heads)\n",
    "        self.feedfwd = FeedForward(embdim)\n",
    "        self.layernorm1 = LayerNormalization(embdim)\n",
    "        self.layernorm2 = LayerNormalization(embdim)\n",
    "        self.layernorm3 = LayerNormalization(embdim)\n",
    "\n",
    "    def forward(self, encoder_output, x, src_mask, tgt_mask):\n",
    "        x  = x + self.attn(x,x,x,tgt_mask)\n",
    "        x  = self.layernorm1(x)\n",
    "        x = x + self.attn(x,encoder_output, encoder_output, src_mask)\n",
    "        x = self.layernorm2(x)\n",
    "        x = x + self.feedfwd(x)\n",
    "        x = self.layernorm3(x)\n",
    "        return x \n",
    "\n"
   ]
  },
  {
   "cell_type": "code",
   "execution_count": null,
   "metadata": {},
   "outputs": [],
   "source": [
    "class Encoder(nn.Module):\n",
    "    def __init__(self, layers):\n",
    "        super().__init__()\n",
    "        self.layers = layers\n",
    "\n",
    "    def forward(self, x, mask):\n",
    "        for layer in self.layers:\n",
    "            x = layer(x, mask)\n",
    "        return x"
   ]
  },
  {
   "cell_type": "code",
   "execution_count": null,
   "metadata": {},
   "outputs": [],
   "source": [
    "class Decoder(nn.Module):\n",
    "    def __init__(self, layers):\n",
    "        super().__init__()\n",
    "        self.layers = layers\n",
    "\n",
    "    def forward(self, x, encoder_output, src_mask, tgt_mask):\n",
    "        for layer in self.layers:\n",
    "            x = layer(x, encoder_output, src_mask, tgt_mask)\n",
    "        return x"
   ]
  },
  {
   "cell_type": "code",
   "execution_count": null,
   "metadata": {},
   "outputs": [],
   "source": [
    "class FinalProjectionLayer(nn.Module):\n",
    "    def __init__(self, embdim, vocab_size):\n",
    "        super().__init__()\n",
    "        self.linear = nn.Linear(embdim, vocab_size)\n",
    "\n",
    "    def forward(self, x):\n",
    "        return self.linear(x)"
   ]
  },
  {
   "cell_type": "code",
   "execution_count": null,
   "metadata": {},
   "outputs": [],
   "source": [
    "class Transformer(nn.Module):\n",
    "\n",
    "    def __init__(\n",
    "        self, encoder, decoder, src_emb, tgt_emb, src_pos, tgt_pos, finalprojectionlayer\n",
    "    ):\n",
    "        super().__init__()\n",
    "        self.encoder = encoder\n",
    "        self.decoder = decoder\n",
    "        self.src_emb = src_emb\n",
    "        self.src_pos = src_pos\n",
    "        self.tgt_emb = tgt_emb\n",
    "        self.tgt_pos = tgt_pos\n",
    "        self.finalprojectionlayer = finalprojectionlayer\n",
    "\n",
    "    def encoder_func(self, x, src_mask):\n",
    "        x = self.src_emb(x)\n",
    "        x = self.src_pos(x)\n",
    "        return self.encoder(x, src_mask)\n",
    "\n",
    "    def decoder_func(self, encoder_output, x, src_mask, tgt_mask):\n",
    "        x = self.tgt_emb(x)\n",
    "        x = self.tgt_pos(x)\n",
    "        return self.decoder(encoder_output, x, src_mask, tgt_mask)\n",
    "\n",
    "    def projection(self, x):\n",
    "        return self.finalprojectionlayer(x)"
   ]
  },
  {
   "cell_type": "code",
   "execution_count": null,
   "metadata": {},
   "outputs": [],
   "source": [
    "def build_transformer(\n",
    "    src_vocab_size,\n",
    "    src_seq_len,\n",
    "    tgt_vocab_size,\n",
    "    tgt_seq_len,\n",
    "    embdim,\n",
    "    encoder_depth,\n",
    "    decoder_depth,\n",
    "    num_heads,\n",
    "):\n",
    "    src_emb = InputEmbeddings(src_vocab_size, embdim)\n",
    "    src_pos = PositionalEmbeddings(src_seq_len, embdim)\n",
    "\n",
    "    tgt_emb = InputEmbeddings(tgt_vocab_size, embdim)\n",
    "    tgt_pos = PositionalEmbeddings(tgt_seq_len, embdim)\n",
    "\n",
    "    encoder_blocks = []\n",
    "    for _ in range(encoder_depth):\n",
    "        encoder_block = EncoderBlock(embdim, num_heads)\n",
    "        encoder_blocks.append(encoder_block)\n",
    "\n",
    "    decoder_blocks = []\n",
    "\n",
    "    for _ in range(decoder_depth):\n",
    "        decoder_block = DecoderBlock(embdim, num_heads)\n",
    "        decoder_blocks.append(decoder_block)\n",
    "\n",
    "    encoder = Encoder(nn.ModuleList(encoder_blocks))\n",
    "    decoder = Decoder(nn.ModuleList(decoder_blocks))\n",
    "    finalprojectionlayer = FinalProjectionLayer(embdim, tgt_vocab_size)\n",
    "\n",
    "    transformer = Transformer(\n",
    "        encoder, decoder, src_emb, tgt_emb, src_pos, tgt_pos, finalprojectionlayer\n",
    "    )\n",
    "\n",
    "    return transformer"
   ]
  },
  {
   "cell_type": "code",
   "execution_count": null,
   "metadata": {},
   "outputs": [],
   "source": [
    "build_transformer(300, 300, 3000, 300, 300, 2, 1, 10)"
   ]
  },
  {
   "cell_type": "code",
   "execution_count": null,
   "metadata": {},
   "outputs": [],
   "source": []
  }
 ],
 "metadata": {
  "kernelspec": {
   "display_name": "base",
   "language": "python",
   "name": "python3"
  },
  "language_info": {
   "codemirror_mode": {
    "name": "ipython",
    "version": 3
   },
   "file_extension": ".py",
   "mimetype": "text/x-python",
   "name": "python",
   "nbconvert_exporter": "python",
   "pygments_lexer": "ipython3",
   "version": "3.12.4"
  }
 },
 "nbformat": 4,
 "nbformat_minor": 2
}
