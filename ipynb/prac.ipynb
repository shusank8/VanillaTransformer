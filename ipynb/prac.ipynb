{
 "cells": [
  {
   "cell_type": "code",
   "execution_count": 1,
   "metadata": {},
   "outputs": [],
   "source": [
    "import torch\n",
    "import torch.nn as nn\n",
    "import torch.nn.functional as F"
   ]
  },
  {
   "cell_type": "code",
   "execution_count": 2,
   "metadata": {},
   "outputs": [],
   "source": [
    "class InputEmbeddings(nn.Module):\n",
    "\n",
    "    def __init__(self, vocab_size, embdim):\n",
    "        super().__init__()\n",
    "        self.embeddings = nn.Embedding(vocab_size, embdim)\n",
    "\n",
    "    def forward(self, x):\n",
    "        return self.embeddings(x)"
   ]
  },
  {
   "cell_type": "code",
   "execution_count": 3,
   "metadata": {},
   "outputs": [],
   "source": [
    "class PositionEmbeddings(nn.Module):\n",
    "\n",
    "    def __init__(self, seq_len, embdim):\n",
    "        super().__init__()\n",
    "        # self.pe is the lookup matrix where each row represents seq[i]\n",
    "        self.pe = torch.zeros(seq_len, embdim, dtype=torch.float32)\n",
    "        # positions is just the sequences of seq_len\n",
    "        positions = torch.arange(0, seq_len, dtype=torch.float32).unsqueeze(1)\n",
    "        # skipdim, skips by 2 starting 0\n",
    "        emb_skip_dim = torch.arange(0, embdim, step=2, dtype=torch.float32)\n",
    "\n",
    "        z = positions / (10000 ** (emb_skip_dim / embdim))\n",
    "        self.pe[:, 0::2] = torch.sin(z)\n",
    "        self.pe[:, 1::2] = torch.cos(z)\n",
    "        self.pe = self.pe.unsqueeze(0)\n",
    "        self.pe = nn.Parameter(self.pe, requires_grad=False)\n",
    "\n",
    "    def forward(self, x):\n",
    "        B, T, C = x.shape\n",
    "\n",
    "        x = x + self.pe[:, :T, :]\n",
    "        return x"
   ]
  },
  {
   "cell_type": "code",
   "execution_count": 36,
   "metadata": {},
   "outputs": [],
   "source": [
    "class MultiHeadAttention(nn.Module):\n",
    "\n",
    "    def __init__(self, embdim, num_heads):\n",
    "        super().__init__()\n",
    "        self.query = nn.Linear(embdim, embdim)\n",
    "        self.key = nn.Linear(embdim, embdim)\n",
    "        self.value = nn.Linear(embdim, embdim)\n",
    "        self.num_heads = num_heads\n",
    "        assert embdim % num_heads == 0, \"Make sure embdim is divisible by num_heads\"\n",
    "        self.head_dim = embdim // num_heads\n",
    "\n",
    "    def forward(self, x):\n",
    "        B, T, C = x.shape\n",
    "        q = self.query(x)\n",
    "        k = self.key(x)\n",
    "        v = self.value(x)\n",
    "        q = q.view(B, T, self.num_heads, self.head_dim).transpose(1, 2)\n",
    "        k = k.view(B, T, self.num_heads, self.head_dim).transpose(1, 2)\n",
    "        v = v.view(B, T, self.num_heads, self.head_dim).transpose(1, 2)\n",
    "        print(q.shape, k.shape, v.shape)"
   ]
  },
  {
   "cell_type": "code",
   "execution_count": 37,
   "metadata": {},
   "outputs": [],
   "source": [
    "B, T, C = 4, 2, 8\n",
    "x = torch.randn(B, T, C)"
   ]
  },
  {
   "cell_type": "code",
   "execution_count": 38,
   "metadata": {},
   "outputs": [
    {
     "data": {
      "text/plain": [
       "torch.Size([4, 2, 8])"
      ]
     },
     "execution_count": 38,
     "metadata": {},
     "output_type": "execute_result"
    }
   ],
   "source": [
    "x.shape"
   ]
  },
  {
   "cell_type": "code",
   "execution_count": 39,
   "metadata": {},
   "outputs": [],
   "source": [
    "model = MultiHeadAttention(C, 2)"
   ]
  },
  {
   "cell_type": "code",
   "execution_count": 40,
   "metadata": {},
   "outputs": [
    {
     "name": "stdout",
     "output_type": "stream",
     "text": [
      "torch.Size([4, 2, 2, 4]) torch.Size([4, 2, 2, 4]) torch.Size([4, 2, 2, 4])\n"
     ]
    }
   ],
   "source": [
    "model(x)"
   ]
  },
  {
   "cell_type": "code",
   "execution_count": 41,
   "metadata": {},
   "outputs": [
    {
     "data": {
      "text/plain": [
       "tensor([[-0.2698, -1.8405, -0.3761, -0.2407, -2.5391, -0.7688,  0.6951, -1.1937],\n",
       "        [ 0.6633, -1.1746, -1.2367,  0.2515,  0.9736, -0.5950,  1.4202, -0.4203]])"
      ]
     },
     "execution_count": 41,
     "metadata": {},
     "output_type": "execute_result"
    }
   ],
   "source": [
    "x[0]"
   ]
  },
  {
   "cell_type": "code",
   "execution_count": null,
   "metadata": {},
   "outputs": [],
   "source": [
    "mask = [False ]"
   ]
  },
  {
   "cell_type": "markdown",
   "metadata": {},
   "source": []
  }
 ],
 "metadata": {
  "kernelspec": {
   "display_name": "base",
   "language": "python",
   "name": "python3"
  },
  "language_info": {
   "codemirror_mode": {
    "name": "ipython",
    "version": 3
   },
   "file_extension": ".py",
   "mimetype": "text/x-python",
   "name": "python",
   "nbconvert_exporter": "python",
   "pygments_lexer": "ipython3",
   "version": "3.12.4"
  }
 },
 "nbformat": 4,
 "nbformat_minor": 2
}
