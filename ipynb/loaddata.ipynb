{
 "cells": [
  {
   "cell_type": "code",
   "execution_count": 2,
   "metadata": {},
   "outputs": [],
   "source": [
    "import sys\n",
    "\n",
    "sys.path.append(\"../src\")\n",
    "from tokenizer import get_tokenizer, get_data\n",
    "from torch.utils.data import Dataset, DataLoader\n",
    "from CustomDataLoader import CustomDataset\n",
    "\n",
    "\n",
    "dataset_path = (\n",
    "    \"/Users/shusanketbasyal/.cache/kagglehub/datasets/jigarpanjiyar/english-to-manipuri-dataset/versions/1\"\n",
    "    + \"//english-nepali.xlsx\"\n",
    ")\n",
    "\n",
    "engtokenizer, neptokenizer = get_tokenizer(dataset_path)\n",
    "\n",
    "df_train, df_test = get_data(dataset_path, split=True)"
   ]
  },
  {
   "cell_type": "code",
   "execution_count": 3,
   "metadata": {},
   "outputs": [
    {
     "data": {
      "text/plain": [
       "(30000, 30000)"
      ]
     },
     "execution_count": 3,
     "metadata": {},
     "output_type": "execute_result"
    }
   ],
   "source": [
    "engvocabsize = engtokenizer.get_vocab_size()\n",
    "nepvocabsize = neptokenizer.get_vocab_size()\n",
    "engvocabsize, nepvocabsize"
   ]
  },
  {
   "cell_type": "code",
   "execution_count": 4,
   "metadata": {},
   "outputs": [],
   "source": [
    "# from tokenizer import get_tokenizer, get_data\n",
    "# from torch.utils.data import Dataset, DataLoader\n",
    "# from CustomDataLoader import CustomDataset\n",
    "\n",
    "\n",
    "# dataset_path =  \"/Users/shusanketbasyal/.cache/kagglehub/datasets/jigarpanjiyar/english-to-manipuri-dataset/versions/1\"+\"//english-nepali.xlsx\"\n",
    "\n",
    "# engtokenizer, neptokenizer  = get_tokenizer(dataset_path)\n",
    "\n",
    "# df_train, df_test = get_data(dataset_path, split=True)\n",
    "\n",
    "# df_train_dataset = CustomDataset(df_train, engtokenizer, neptokenizer, \"eng\", \"nep\", 256)\n",
    "# df_test_dataset = CustomDataset(df_test, engtokenizer, neptokenizer, \"eng\", \"nep\", 256)\n",
    "\n",
    "\n",
    "# df_train_dataloader = DataLoader(df_train_dataset, batch_size=2, shuffle=True)"
   ]
  },
  {
   "cell_type": "code",
   "execution_count": 5,
   "metadata": {},
   "outputs": [],
   "source": [
    "df_train_dataset = CustomDataset(\n",
    "    df_train, engtokenizer, neptokenizer, \"eng\", \"nep\", 256\n",
    ")\n",
    "df_test_dataset = CustomDataset(df_test, engtokenizer, neptokenizer, \"eng\", \"nep\", 256)"
   ]
  },
  {
   "cell_type": "code",
   "execution_count": 6,
   "metadata": {},
   "outputs": [],
   "source": [
    "df_train_dataloader = DataLoader(df_train_dataset, batch_size=1, shuffle=True)"
   ]
  },
  {
   "cell_type": "code",
   "execution_count": 7,
   "metadata": {},
   "outputs": [
    {
     "name": "stdout",
     "output_type": "stream",
     "text": [
      "torch.Size([1, 256])\n",
      "torch.Size([1, 256])\n",
      "torch.Size([1, 256])\n",
      "torch.Size([1, 256])\n",
      "torch.Size([1, 256, 256])\n"
     ]
    }
   ],
   "source": [
    "for x in df_train_dataloader:\n",
    "    enc_input = x[\"encoder_input\"]\n",
    "    dec_input = x[\"decoder_input\"]\n",
    "    enc_mask = x[\"encoder_mask\"]\n",
    "    dec_mask = x[\"decoder_mask\"]\n",
    "\n",
    "    print(enc_input.shape)\n",
    "    print(dec_input.shape)\n",
    "    print(x[\"label\"].shape)\n",
    "    print(enc_mask.shape)\n",
    "    print(dec_mask.shape)\n",
    "\n",
    "    break"
   ]
  },
  {
   "cell_type": "code",
   "execution_count": 8,
   "metadata": {},
   "outputs": [
    {
     "name": "stdout",
     "output_type": "stream",
     "text": [
      "Done with data loader working on Model Implementation\n"
     ]
    }
   ],
   "source": [
    "print(\"Done with data loader working on Model Implementation\")"
   ]
  },
  {
   "cell_type": "code",
   "execution_count": 9,
   "metadata": {},
   "outputs": [],
   "source": [
    "# kinda global variable\n",
    "seq_len = 256\n",
    "embdim = 512\n",
    "vocab_size = engvocabsize"
   ]
  },
  {
   "cell_type": "code",
   "execution_count": 11,
   "metadata": {},
   "outputs": [],
   "source": [
    "import torch\n",
    "import torch.nn as nn"
   ]
  },
  {
   "cell_type": "code",
   "execution_count": 11,
   "metadata": {},
   "outputs": [],
   "source": [
    "class InputEmbeddings(nn.Module):\n",
    "    def __init__(self, vocab_size, embdim):\n",
    "\n",
    "        super().__init__()\n",
    "        self.embeddings = nn.Embedding(vocab_size, embdim)\n",
    "\n",
    "    def forward(self, x):\n",
    "        return self.embeddings(x)"
   ]
  },
  {
   "cell_type": "code",
   "execution_count": 36,
   "metadata": {},
   "outputs": [],
   "source": [
    "class PositionalEmbeddings(nn.Module):\n",
    "    def __init__(self, seq_len, embdim):\n",
    "        super().__init__()\n",
    "\n",
    "        # self.pe is the lookup matrix where each row represents a position\n",
    "        # shape  = (SEQ_LEN, EMBDIM)\n",
    "        self.pe = torch.zeros(seq_len, embdim, dtype=torch.float32)\n",
    "        # positions is just the sequence of the position from 0,seq_len, shape => (SEQ_LEN, 1)\n",
    "        positions = torch.arange(0, seq_len, dtype=torch.float32).unsqueeze(1)\n",
    "        # SHAPE(256)\n",
    "        emb_skip_dim = torch.arange(0, embdim, step=2, dtype=torch.float32)\n",
    "        # (seqlen, 1) / (256) => (seqlen, 256)\n",
    "        z = positions / (10000 ** (emb_skip_dim / embdim))\n",
    "        # even 256\n",
    "        self.pe[:, 0::2] = torch.sin(z)\n",
    "        # odd 256\n",
    "        self.pe[:, 1::2] = torch.cos(z)\n",
    "\n",
    "        # shape of self.pe => (SEQ_LEN, EMBDIM)\n",
    "        # NEED TO ADD BATCH DIM\n",
    "        # self.pe = self.pe.unsqueeze(0)\n",
    "        self.pe = nn.Parameter(self.pe, requires_grad=False)\n",
    "\n",
    "    def forward(self, x):\n",
    "        B, T, C = x.shape\n",
    "        print(x.shape, self.pe.shape)\n",
    "        # for training all will have T but when generating not all will have seq of T\n",
    "        x = x + self.pe[:T, :]\n",
    "        # return x"
   ]
  },
  {
   "cell_type": "code",
   "execution_count": 37,
   "metadata": {},
   "outputs": [],
   "source": [
    "pe = torch.zeros(seq_len, embdim, dtype=torch.float32)\n",
    "# positions is just the sequence of the position from 0,seq_len, shape => (SEQ_LEN, 1)\n",
    "positions = torch.arange(0, seq_len, dtype=torch.float32).unsqueeze(1)\n",
    "# SHAPE(256)\n",
    "emb_skip_dim = torch.arange(0, embdim, step=2, dtype=torch.float32)\n",
    "# (seqlen, 1) / (256) => (seqlen, 256)\n",
    "z = positions / (10000 ** (emb_skip_dim / embdim))\n",
    "# even 256\n",
    "pe[:, 0::2] = torch.sin(z)\n",
    "# odd 256\n",
    "pe[:, 1::2] = torch.cos(z)"
   ]
  },
  {
   "cell_type": "code",
   "execution_count": 38,
   "metadata": {},
   "outputs": [],
   "source": [
    "model = InputEmbeddings(vocab_size, embdim)\n",
    "out = model(enc_input)"
   ]
  },
  {
   "cell_type": "code",
   "execution_count": 39,
   "metadata": {},
   "outputs": [
    {
     "name": "stdout",
     "output_type": "stream",
     "text": [
      "torch.Size([1, 256, 512]) torch.Size([256, 512])\n"
     ]
    }
   ],
   "source": [
    "model = PositionalEmbeddings(seq_len, embdim)\n",
    "out = model(out)"
   ]
  },
  {
   "cell_type": "code",
   "execution_count": 54,
   "metadata": {},
   "outputs": [],
   "source": [
    "a = torch.randint(2, 10, (2, 3, 4))\n",
    "b = torch.randint(2, 10, (5, 4))"
   ]
  },
  {
   "cell_type": "code",
   "execution_count": 55,
   "metadata": {},
   "outputs": [],
   "source": [
    "a, a.shape\n",
    "B, T, C = a.shape"
   ]
  },
  {
   "cell_type": "code",
   "execution_count": 56,
   "metadata": {},
   "outputs": [
    {
     "data": {
      "text/plain": [
       "tensor([[5, 3, 9, 8],\n",
       "        [3, 5, 5, 6],\n",
       "        [3, 7, 6, 9],\n",
       "        [4, 2, 9, 2],\n",
       "        [9, 7, 3, 3]])"
      ]
     },
     "execution_count": 56,
     "metadata": {},
     "output_type": "execute_result"
    }
   ],
   "source": [
    "b"
   ]
  },
  {
   "cell_type": "code",
   "execution_count": 57,
   "metadata": {},
   "outputs": [
    {
     "data": {
      "text/plain": [
       "tensor([[[4, 2, 9, 9],\n",
       "         [3, 6, 5, 6],\n",
       "         [5, 4, 3, 8]],\n",
       "\n",
       "        [[5, 9, 5, 9],\n",
       "         [2, 9, 4, 2],\n",
       "         [6, 5, 8, 4]]])"
      ]
     },
     "execution_count": 57,
     "metadata": {},
     "output_type": "execute_result"
    }
   ],
   "source": [
    "a"
   ]
  },
  {
   "cell_type": "code",
   "execution_count": 58,
   "metadata": {},
   "outputs": [
    {
     "data": {
      "text/plain": [
       "tensor([[[ 9,  5, 18, 17],\n",
       "         [ 6, 11, 10, 12],\n",
       "         [ 8, 11,  9, 17]],\n",
       "\n",
       "        [[10, 12, 14, 17],\n",
       "         [ 5, 14,  9,  8],\n",
       "         [ 9, 12, 14, 13]]])"
      ]
     },
     "execution_count": 58,
     "metadata": {},
     "output_type": "execute_result"
    }
   ],
   "source": [
    "a + b[:T, :]"
   ]
  },
  {
   "cell_type": "code",
   "execution_count": null,
   "metadata": {},
   "outputs": [],
   "source": [
    "class MultiHeadAttention(nn.Module):\n",
    "    def __init__(self, embdim, num_heads):\n",
    "        super().__init__()\n",
    "        self.query = nn.Linear(embdim, embdim)\n",
    "        self.key = nn.Linear(embdim, embdim)\n",
    "        self.value = nn.Linear(embdim, embdim)\n",
    "        # after computation, this is used for projection\n",
    "        self.proj = nn.Linear(embdim, embdim)\n",
    "        self.num_heads = num_heads\n",
    "        assert embdim % self.num_heads == 0, \"{embdim} is not divisible by {num_heads}\"\n",
    "        self.head_dim = embdim // num_heads\n",
    "\n",
    "    @staticmethod\n",
    "    def attention(q, k, v, mask):\n",
    "        head_dim = q.shape[-1]\n",
    "\n",
    "        attention_scores = (q @ k.transpose(-2, -1)) / (head_dim) ** (1 / 2)\n",
    "        if mask is not None:\n",
    "            attention_scores.masked_fill(mask == 0, float(\"-inf\"))\n",
    "\n",
    "        attention_scores = attention_scores.softmax(dim=-1)\n",
    "\n",
    "        return (attention_scores @ v), attention_scores\n",
    "\n",
    "    def forward(self, q, k, v, mask):\n",
    "        B, T, C = x.shape\n",
    "        # (B,T,C) => (B,T,C)\n",
    "        q = self.query(q)\n",
    "        k = self.key(k)\n",
    "        v = self.key(v)\n",
    "\n",
    "        # reshape\n",
    "        # (B,T,C) => (B,NH, T, H)\n",
    "        q = q.view(B, T, self.num_heads, self.head_dim).transpose(1, 2)\n",
    "        k = k.view(B, T, self.num_heads, self.head_dim).transpose(1, 2)\n",
    "        v = v.view(B, T, self.num_heads, self.head_dim).transpose(1, 2)\n",
    "\n",
    "        output, attentionscores = MultiHeadAttention.attention(q, k, v, mask)\n",
    "        # shape of output => (B,NH, SEQ, HDIM)\n",
    "        # TO => (B, SEQ, EMBDIM)\n",
    "        output = output.transpose(1, 2).contiguous().view(B, T, C)\n",
    "        return self.proj(output)"
   ]
  },
  {
   "cell_type": "code",
   "execution_count": null,
   "metadata": {},
   "outputs": [],
   "source": [
    "class FeedForward(nn.Module):\n",
    "    def __init__(self, embdim):\n",
    "        super().__init__()\n",
    "        self.model = nn.Sequential(\n",
    "            nn.Linear(embdim, 4 * embdim), nn.ReLU(), nn.Linear(4 * embdim, embdim)\n",
    "        )\n",
    "\n",
    "    def forward(self, x):\n",
    "        return self.model(x)"
   ]
  },
  {
   "cell_type": "code",
   "execution_count": null,
   "metadata": {},
   "outputs": [],
   "source": [
    "class LayerNormalization(nn.Module):\n",
    "\n",
    "    def __init__(self, embdim):\n",
    "        super().__init__()\n",
    "        self.embdim = embdim\n",
    "        self.alpha = torch.ones(embdim)\n",
    "        self.beta = torch.zeros(embdim)\n",
    "\n",
    "    def forward(self, x):\n",
    "        xmean = x.mean(dim=-1, keepdim=True)\n",
    "        xstd = x.std(dim=-1, keepdim=True)\n",
    "        return self.alpha * ((x - xmean) / xstd + 1e-6) + self.beta"
   ]
  },
  {
   "cell_type": "code",
   "execution_count": null,
   "metadata": {},
   "outputs": [],
   "source": [
    "class EncoderBlock(nn.Module):\n",
    "    def __init__(self, embdim, num_heads):\n",
    "        super().__init__()\n",
    "        self.attn = MultiHeadAttention(embdim, num_heads)\n",
    "        self.feedfwd = FeedForward(embdim)\n",
    "        self.layernorm1 = LayerNormalization(embdim)\n",
    "        self.layernorm2 = LayerNormalization(embdim)\n",
    "\n",
    "    def forward(self, x, mask):\n",
    "        x = x + self.attn(x, x, x, mask)\n",
    "        x = self.layernorm1(x)\n",
    "        x = x + self.feedfwd(x)\n",
    "        return self.layernorm2(x)"
   ]
  },
  {
   "cell_type": "code",
   "execution_count": null,
   "metadata": {},
   "outputs": [],
   "source": [
    "class DecoderBlock(nn.Module):\n",
    "    def __init__(self, embdim, num_heads):\n",
    "        super().__init__()\n",
    "        self.attn = MultiHeadAttention(embdim, num_heads)\n",
    "        self.cross_attn = MultiHeadAttention(embdim, num_heads)\n",
    "        self.feedfwd = FeedForward(embdim)\n",
    "        self.layernorm1 = LayerNormalization(embdim)\n",
    "        self.layernorm2 = LayerNormalization(embdim)\n",
    "        self.layernorm3 = LayerNormalization(embdim)\n",
    "\n",
    "    def forward(self, encoder_output, x, src_mask, tgt_mask):\n",
    "        x  = x + self.attn(x,x,x,tgt_mask)\n",
    "        x  = self.layernorm1(x)\n",
    "        x = x + self.attn(x,encoder_output, encoder_output, src_mask)\n",
    "        x = self.layernorm2(x)\n",
    "        x = x + self.feedfwd(x)\n",
    "        x = self.layernorm3(x)\n",
    "        return x \n",
    "\n"
   ]
  },
  {
   "cell_type": "code",
   "execution_count": null,
   "metadata": {},
   "outputs": [],
   "source": [
    "class Encoder(nn.Module):\n",
    "    def __init__(self, layers):\n",
    "        super().__init__()\n",
    "        self.layers = layers\n",
    "\n",
    "    def forward(self, x, mask):\n",
    "        for layer in self.layers:\n",
    "            x = layer(x, mask)\n",
    "        return x"
   ]
  },
  {
   "cell_type": "code",
   "execution_count": null,
   "metadata": {},
   "outputs": [],
   "source": [
    "class Decoder(nn.Module):\n",
    "    def __init__(self, layers):\n",
    "        super().__init__()\n",
    "        self.layers = layers\n",
    "\n",
    "    def forward(self, x, encoder_output, src_mask, tgt_mask):\n",
    "        for layer in self.layers:\n",
    "            x = layer(x, encoder_output, src_mask, tgt_mask)\n",
    "        return x"
   ]
  },
  {
   "cell_type": "code",
   "execution_count": null,
   "metadata": {},
   "outputs": [],
   "source": [
    "class FinalProjectionLayer(nn.Module):\n",
    "    def __init__(self, embdim, vocab_size):\n",
    "        super().__init__()\n",
    "        self.linear = nn.Linear(embdim, vocab_size)\n",
    "\n",
    "    def forward(self, x):\n",
    "        return self.linear(x)"
   ]
  },
  {
   "cell_type": "code",
   "execution_count": 1,
   "metadata": {},
   "outputs": [
    {
     "ename": "NameError",
     "evalue": "name 'nn' is not defined",
     "output_type": "error",
     "traceback": [
      "\u001b[0;31m---------------------------------------------------------------------------\u001b[0m",
      "\u001b[0;31mNameError\u001b[0m                                 Traceback (most recent call last)",
      "\u001b[1;32m/Users/shusanketbasyal/Documents/GitHub/PROJECTS/ML/ItsAllRelative/VanillaTransformer/ipynb/loaddata.ipynb Cell 28\u001b[0m line \u001b[0;36m1\n\u001b[0;32m----> <a href='vscode-notebook-cell:/Users/shusanketbasyal/Documents/GitHub/PROJECTS/ML/ItsAllRelative/VanillaTransformer/ipynb/loaddata.ipynb#X36sZmlsZQ%3D%3D?line=0'>1</a>\u001b[0m \u001b[39mclass\u001b[39;00m \u001b[39mTransformer\u001b[39;00m(nn\u001b[39m.\u001b[39mModule):\n\u001b[1;32m      <a href='vscode-notebook-cell:/Users/shusanketbasyal/Documents/GitHub/PROJECTS/ML/ItsAllRelative/VanillaTransformer/ipynb/loaddata.ipynb#X36sZmlsZQ%3D%3D?line=2'>3</a>\u001b[0m     \u001b[39mdef\u001b[39;00m \u001b[39m__init__\u001b[39m(\n\u001b[1;32m      <a href='vscode-notebook-cell:/Users/shusanketbasyal/Documents/GitHub/PROJECTS/ML/ItsAllRelative/VanillaTransformer/ipynb/loaddata.ipynb#X36sZmlsZQ%3D%3D?line=3'>4</a>\u001b[0m         \u001b[39mself\u001b[39m, encoder, decoder, src_emb, tgt_emb, src_pos, tgt_pos, finalprojectionlayer\n\u001b[1;32m      <a href='vscode-notebook-cell:/Users/shusanketbasyal/Documents/GitHub/PROJECTS/ML/ItsAllRelative/VanillaTransformer/ipynb/loaddata.ipynb#X36sZmlsZQ%3D%3D?line=4'>5</a>\u001b[0m     ):\n\u001b[1;32m      <a href='vscode-notebook-cell:/Users/shusanketbasyal/Documents/GitHub/PROJECTS/ML/ItsAllRelative/VanillaTransformer/ipynb/loaddata.ipynb#X36sZmlsZQ%3D%3D?line=5'>6</a>\u001b[0m         \u001b[39msuper\u001b[39m()\u001b[39m.\u001b[39m\u001b[39m__init__\u001b[39m()\n",
      "\u001b[0;31mNameError\u001b[0m: name 'nn' is not defined"
     ]
    }
   ],
   "source": [
    "class Transformer(nn.Module):\n",
    "\n",
    "    def __init__(\n",
    "        self, encoder, decoder, src_emb, tgt_emb, src_pos, tgt_pos, finalprojectionlayer\n",
    "    ):\n",
    "        super().__init__()\n",
    "        self.encoder = encoder\n",
    "        self.decoder = decoder\n",
    "        self.src_emb = src_emb\n",
    "        self.src_pos = src_pos\n",
    "        self.tgt_emb = tgt_emb\n",
    "        self.tgt_pos = tgt_pos\n",
    "        self.finalprojectionlayer = finalprojectionlayer\n",
    "\n",
    "    def encoder_func(self, x, src_mask):\n",
    "        x = self.src_emb(x)\n",
    "        x = self.src_pos(x)\n",
    "        return self.encoder(x, src_mask)\n",
    "\n",
    "    def decoder_func(self, encoder_output, x, src_mask, tgt_mask):\n",
    "        x = self.tgt_emb(x)\n",
    "        x = self.tgt_pos(x)\n",
    "        return self.decoder(encoder_output, x, src_mask, tgt_mask)\n",
    "\n",
    "    def projection(self, x):\n",
    "        return self.finalprojectionlayer(x)"
   ]
  },
  {
   "cell_type": "code",
   "execution_count": null,
   "metadata": {},
   "outputs": [],
   "source": [
    "def build_transformer(\n",
    "    src_vocab_size,\n",
    "    src_seq_len,\n",
    "    tgt_vocab_size,\n",
    "    tgt_seq_len,\n",
    "    embdim,\n",
    "    encoder_depth,\n",
    "    decoder_depth,\n",
    "    num_heads,\n",
    "):\n",
    "    src_emb = InputEmbeddings(src_vocab_size, embdim)\n",
    "    src_pos = PositionalEmbeddings(src_seq_len, embdim)\n",
    "\n",
    "    tgt_emb = InputEmbeddings(tgt_vocab_size, embdim)\n",
    "    tgt_pos = PositionalEmbeddings(tgt_seq_len, embdim)\n",
    "\n",
    "    encoder_blocks = []\n",
    "    for _ in range(encoder_depth):\n",
    "        encoder_block = EncoderBlock(embdim, num_heads)\n",
    "        encoder_blocks.append(encoder_block)\n",
    "\n",
    "    decoder_blocks = []\n",
    "\n",
    "    for _ in range(decoder_depth):\n",
    "        decoder_block = DecoderBlock(embdim, num_heads)\n",
    "        decoder_blocks.append(decoder_block)\n",
    "\n",
    "    encoder = Encoder(nn.ModuleList(encoder_blocks))\n",
    "    decoder = Decoder(nn.ModuleList(decoder_blocks))\n",
    "    finalprojectionlayer = FinalProjectionLayer(embdim, tgt_vocab_size)\n",
    "\n",
    "    transformer = Transformer(\n",
    "        encoder, decoder, src_emb, tgt_emb, src_pos, tgt_pos, finalprojectionlayer\n",
    "    )\n",
    "\n",
    "    return transformer"
   ]
  },
  {
   "cell_type": "code",
   "execution_count": null,
   "metadata": {},
   "outputs": [],
   "source": [
    "build_transformer(300, 300, 3000, 300, 300, 2, 1, 10)"
   ]
  },
  {
   "cell_type": "code",
   "execution_count": 1,
   "metadata": {},
   "outputs": [
    {
     "ename": "NameError",
     "evalue": "name 'enc_input' is not defined",
     "output_type": "error",
     "traceback": [
      "\u001b[0;31m---------------------------------------------------------------------------\u001b[0m",
      "\u001b[0;31mNameError\u001b[0m                                 Traceback (most recent call last)",
      "\u001b[1;32m/Users/shusanketbasyal/Documents/GitHub/PROJECTS/ML/ItsAllRelative/VanillaTransformer/ipynb/loaddata.ipynb Cell 31\u001b[0m line \u001b[0;36m1\n\u001b[0;32m----> <a href='vscode-notebook-cell:/Users/shusanketbasyal/Documents/GitHub/PROJECTS/ML/ItsAllRelative/VanillaTransformer/ipynb/loaddata.ipynb#X42sZmlsZQ%3D%3D?line=0'>1</a>\u001b[0m enc_input\n",
      "\u001b[0;31mNameError\u001b[0m: name 'enc_input' is not defined"
     ]
    }
   ],
   "source": [
    "enc_input"
   ]
  },
  {
   "cell_type": "code",
   "execution_count": 8,
   "metadata": {},
   "outputs": [
    {
     "data": {
      "text/plain": [
       "(torch.Size([1, 256]), torch.Size([1, 256]))"
      ]
     },
     "execution_count": 8,
     "metadata": {},
     "output_type": "execute_result"
    }
   ],
   "source": [
    "enc_input.shape, enc_mask.shape"
   ]
  },
  {
   "cell_type": "code",
   "execution_count": 35,
   "metadata": {},
   "outputs": [],
   "source": [
    "a = torch.randn(1, 8, 256, 256)"
   ]
  },
  {
   "cell_type": "code",
   "execution_count": 36,
   "metadata": {},
   "outputs": [
    {
     "data": {
      "text/plain": [
       "tensor([[[[ 8.1662e-02,  2.5967e-01,  2.8760e+00,  ...,        -inf,\n",
       "                  -inf,        -inf],\n",
       "          [-1.1152e+00,  1.0214e+00,  2.1114e-01,  ...,        -inf,\n",
       "                  -inf,        -inf],\n",
       "          [ 1.4577e+00, -4.3899e-01,  4.3423e-01,  ...,        -inf,\n",
       "                  -inf,        -inf],\n",
       "          ...,\n",
       "          [-1.4072e-01,  4.2788e-01,  1.1357e+00,  ...,        -inf,\n",
       "                  -inf,        -inf],\n",
       "          [-1.1005e+00,  4.6406e-01,  8.1126e-01,  ...,        -inf,\n",
       "                  -inf,        -inf],\n",
       "          [ 1.0194e+00,  3.5561e-01,  7.4649e-01,  ...,        -inf,\n",
       "                  -inf,        -inf]],\n",
       "\n",
       "         [[-5.2770e-01, -7.0048e-01, -1.3999e+00,  ...,        -inf,\n",
       "                  -inf,        -inf],\n",
       "          [-1.0384e+00,  1.5051e-01, -1.1157e-01,  ...,        -inf,\n",
       "                  -inf,        -inf],\n",
       "          [ 2.5812e+00, -1.1150e+00,  1.2218e+00,  ...,        -inf,\n",
       "                  -inf,        -inf],\n",
       "          ...,\n",
       "          [ 1.8624e+00, -1.7378e+00, -1.0175e+00,  ...,        -inf,\n",
       "                  -inf,        -inf],\n",
       "          [ 1.1162e+00, -8.5628e-01,  7.2214e-01,  ...,        -inf,\n",
       "                  -inf,        -inf],\n",
       "          [-2.1282e+00, -1.7897e-01,  1.1446e+00,  ...,        -inf,\n",
       "                  -inf,        -inf]],\n",
       "\n",
       "         [[ 5.7796e-01,  7.0553e-01,  1.6023e+00,  ...,        -inf,\n",
       "                  -inf,        -inf],\n",
       "          [-6.4469e-01,  1.6602e+00, -1.0271e+00,  ...,        -inf,\n",
       "                  -inf,        -inf],\n",
       "          [-7.8584e-01,  2.1210e+00, -1.3752e+00,  ...,        -inf,\n",
       "                  -inf,        -inf],\n",
       "          ...,\n",
       "          [ 9.1102e-01, -7.3009e-01,  4.5968e-01,  ...,        -inf,\n",
       "                  -inf,        -inf],\n",
       "          [-2.0991e-01,  3.9868e-01,  1.6663e+00,  ...,        -inf,\n",
       "                  -inf,        -inf],\n",
       "          [-8.4358e-01,  7.8322e-01,  5.9177e-01,  ...,        -inf,\n",
       "                  -inf,        -inf]],\n",
       "\n",
       "         ...,\n",
       "\n",
       "         [[ 1.0979e-01, -5.9100e-01,  1.8241e+00,  ...,        -inf,\n",
       "                  -inf,        -inf],\n",
       "          [ 1.1789e+00, -1.1868e-02, -1.4360e-01,  ...,        -inf,\n",
       "                  -inf,        -inf],\n",
       "          [ 4.1554e-01,  6.9397e-01,  1.9389e+00,  ...,        -inf,\n",
       "                  -inf,        -inf],\n",
       "          ...,\n",
       "          [ 9.7526e-02, -5.7619e-01,  8.2310e-01,  ...,        -inf,\n",
       "                  -inf,        -inf],\n",
       "          [ 2.1234e-03,  1.1317e+00, -3.7212e-01,  ...,        -inf,\n",
       "                  -inf,        -inf],\n",
       "          [-1.3001e+00,  1.4748e+00, -1.2418e+00,  ...,        -inf,\n",
       "                  -inf,        -inf]],\n",
       "\n",
       "         [[-1.4497e-01, -1.3748e+00, -8.2915e-01,  ...,        -inf,\n",
       "                  -inf,        -inf],\n",
       "          [-3.0329e-02, -1.5114e-01, -6.8216e-01,  ...,        -inf,\n",
       "                  -inf,        -inf],\n",
       "          [-4.0644e-01, -9.4309e-02,  1.0086e+00,  ...,        -inf,\n",
       "                  -inf,        -inf],\n",
       "          ...,\n",
       "          [-6.2007e-01, -5.4585e-01,  9.8982e-01,  ...,        -inf,\n",
       "                  -inf,        -inf],\n",
       "          [ 1.5450e-01,  1.1094e+00, -1.1163e+00,  ...,        -inf,\n",
       "                  -inf,        -inf],\n",
       "          [ 7.2104e-01,  4.0025e-02,  9.6377e-02,  ...,        -inf,\n",
       "                  -inf,        -inf]],\n",
       "\n",
       "         [[-4.6874e-01,  3.5782e-01, -8.1015e-01,  ...,        -inf,\n",
       "                  -inf,        -inf],\n",
       "          [-1.1944e-01, -2.9396e-01,  1.0045e+00,  ...,        -inf,\n",
       "                  -inf,        -inf],\n",
       "          [-4.7979e-01, -2.0614e-01,  1.1596e+00,  ...,        -inf,\n",
       "                  -inf,        -inf],\n",
       "          ...,\n",
       "          [ 2.5489e-01,  6.4359e-01,  6.4385e-01,  ...,        -inf,\n",
       "                  -inf,        -inf],\n",
       "          [-1.5099e+00, -9.8758e-01,  7.0568e-01,  ...,        -inf,\n",
       "                  -inf,        -inf],\n",
       "          [ 1.2172e+00, -4.9843e-01,  1.6729e-01,  ...,        -inf,\n",
       "                  -inf,        -inf]]]])"
      ]
     },
     "execution_count": 36,
     "metadata": {},
     "output_type": "execute_result"
    }
   ],
   "source": [
    "a.masked_fill_(enc_mask == 0, float(\"-inf\"))"
   ]
  },
  {
   "cell_type": "code",
   "execution_count": 37,
   "metadata": {},
   "outputs": [
    {
     "data": {
      "text/plain": [
       "tensor([-inf, -inf, -inf, -inf, -inf, -inf, -inf, -inf, -inf, -inf, -inf, -inf, -inf, -inf, -inf, -inf, -inf, -inf, -inf, -inf, -inf, -inf, -inf, -inf,\n",
       "        -inf, -inf, -inf, -inf, -inf, -inf, -inf, -inf, -inf, -inf, -inf, -inf, -inf, -inf, -inf, -inf, -inf, -inf, -inf, -inf, -inf, -inf, -inf, -inf,\n",
       "        -inf, -inf, -inf, -inf, -inf, -inf, -inf, -inf])"
      ]
     },
     "execution_count": 37,
     "metadata": {},
     "output_type": "execute_result"
    }
   ],
   "source": [
    "a[0][0][0][200:]"
   ]
  },
  {
   "cell_type": "code",
   "execution_count": 31,
   "metadata": {},
   "outputs": [
    {
     "data": {
      "text/plain": [
       "tensor([1, 1, 1, 1, 1, 1, 1, 0, 0, 0, 0, 0, 0, 0, 0, 0, 0, 0, 0, 0, 0, 0, 0, 0,\n",
       "        0, 0, 0, 0, 0, 0, 0, 0, 0, 0, 0, 0, 0, 0, 0, 0, 0, 0, 0, 0, 0, 0, 0, 0,\n",
       "        0, 0, 0, 0, 0, 0, 0, 0, 0, 0, 0, 0, 0, 0, 0, 0, 0, 0, 0, 0, 0, 0, 0, 0,\n",
       "        0, 0, 0, 0, 0, 0, 0, 0, 0, 0, 0, 0, 0, 0, 0, 0, 0, 0, 0, 0, 0, 0, 0, 0,\n",
       "        0, 0, 0, 0, 0, 0, 0, 0, 0, 0, 0, 0, 0, 0, 0, 0, 0, 0, 0, 0, 0, 0, 0, 0,\n",
       "        0, 0, 0, 0, 0, 0, 0, 0, 0, 0, 0, 0, 0, 0, 0, 0, 0, 0, 0, 0, 0, 0, 0, 0,\n",
       "        0, 0, 0, 0, 0, 0, 0, 0, 0, 0, 0, 0], dtype=torch.int32)"
      ]
     },
     "execution_count": 31,
     "metadata": {},
     "output_type": "execute_result"
    }
   ],
   "source": [
    "enc_mask[0][100:]"
   ]
  },
  {
   "cell_type": "code",
   "execution_count": null,
   "metadata": {},
   "outputs": [],
   "source": []
  }
 ],
 "metadata": {
  "kernelspec": {
   "display_name": "base",
   "language": "python",
   "name": "python3"
  },
  "language_info": {
   "codemirror_mode": {
    "name": "ipython",
    "version": 3
   },
   "file_extension": ".py",
   "mimetype": "text/x-python",
   "name": "python",
   "nbconvert_exporter": "python",
   "pygments_lexer": "ipython3",
   "version": "3.12.4"
  }
 },
 "nbformat": 4,
 "nbformat_minor": 2
}
