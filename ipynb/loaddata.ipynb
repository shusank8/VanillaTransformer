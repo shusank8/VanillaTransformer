{
 "cells": [
  {
   "cell_type": "code",
   "execution_count": 1,
   "metadata": {},
   "outputs": [],
   "source": [
    "import sys\n",
    "\n",
    "sys.path.append(\"../src\")\n",
    "from tokenizer import get_tokenizer, get_data\n",
    "from torch.utils.data import Dataset, DataLoader\n",
    "from CustomDataLoader import CustomDataset\n",
    "\n",
    "\n",
    "dataset_path = (\n",
    "    \"/Users/shusanketbasyal/.cache/kagglehub/datasets/jigarpanjiyar/english-to-manipuri-dataset/versions/1\"\n",
    "    + \"//english-nepali.xlsx\"\n",
    ")\n",
    "\n",
    "engtokenizer, neptokenizer = get_tokenizer(dataset_path)\n",
    "\n",
    "df_train, df_test = get_data(dataset_path, split=True)"
   ]
  },
  {
   "cell_type": "code",
   "execution_count": 2,
   "metadata": {},
   "outputs": [
    {
     "data": {
      "text/plain": [
       "(30000, 30000)"
      ]
     },
     "execution_count": 2,
     "metadata": {},
     "output_type": "execute_result"
    }
   ],
   "source": [
    "engvocabsize = engtokenizer.get_vocab_size()\n",
    "nepvocabsize = neptokenizer.get_vocab_size()\n",
    "engvocabsize, nepvocabsize"
   ]
  },
  {
   "cell_type": "code",
   "execution_count": 3,
   "metadata": {},
   "outputs": [],
   "source": [
    "# from tokenizer import get_tokenizer, get_data\n",
    "# from torch.utils.data import Dataset, DataLoader\n",
    "# from CustomDataLoader import CustomDataset\n",
    "\n",
    "\n",
    "# dataset_path =  \"/Users/shusanketbasyal/.cache/kagglehub/datasets/jigarpanjiyar/english-to-manipuri-dataset/versions/1\"+\"//english-nepali.xlsx\"\n",
    "\n",
    "# engtokenizer, neptokenizer  = get_tokenizer(dataset_path)\n",
    "\n",
    "# df_train, df_test = get_data(dataset_path, split=True)\n",
    "\n",
    "# df_train_dataset = CustomDataset(df_train, engtokenizer, neptokenizer, \"eng\", \"nep\", 256)\n",
    "# df_test_dataset = CustomDataset(df_test, engtokenizer, neptokenizer, \"eng\", \"nep\", 256)\n",
    "\n",
    "\n",
    "# df_train_dataloader = DataLoader(df_train_dataset, batch_size=2, shuffle=True)"
   ]
  },
  {
   "cell_type": "code",
   "execution_count": 4,
   "metadata": {},
   "outputs": [],
   "source": [
    "df_train_dataset = CustomDataset(\n",
    "    df_train, engtokenizer, neptokenizer, \"eng\", \"nep\", 256\n",
    ")\n",
    "df_test_dataset = CustomDataset(df_test, engtokenizer, neptokenizer, \"eng\", \"nep\", 256)"
   ]
  },
  {
   "cell_type": "code",
   "execution_count": 5,
   "metadata": {},
   "outputs": [],
   "source": [
    "df_train_dataloader = DataLoader(df_train_dataset, batch_size=1, shuffle=True)"
   ]
  },
  {
   "cell_type": "code",
   "execution_count": 6,
   "metadata": {},
   "outputs": [
    {
     "name": "stdout",
     "output_type": "stream",
     "text": [
      "torch.Size([1, 256])\n",
      "torch.Size([1, 256])\n",
      "torch.Size([1, 256])\n",
      "torch.Size([1, 256])\n",
      "torch.Size([1, 256, 256])\n"
     ]
    }
   ],
   "source": [
    "for x in df_train_dataloader:\n",
    "    enc_input = x[\"encoder_input\"]\n",
    "    dec_input = x[\"decoder_input\"]\n",
    "    enc_mask = x[\"encoder_mask\"]\n",
    "    dec_mask = x[\"decoder_mask\"]\n",
    "\n",
    "    print(enc_input.shape)\n",
    "    print(dec_input.shape)\n",
    "    print(x[\"label\"].shape)\n",
    "    print(enc_mask.shape)\n",
    "    print(dec_mask.shape)\n",
    "\n",
    "    break"
   ]
  },
  {
   "cell_type": "code",
   "execution_count": 7,
   "metadata": {},
   "outputs": [
    {
     "name": "stdout",
     "output_type": "stream",
     "text": [
      "Done with data loader working on Model Implementation\n"
     ]
    }
   ],
   "source": [
    "print(\"Done with data loader working on Model Implementation\")"
   ]
  },
  {
   "cell_type": "code",
   "execution_count": 8,
   "metadata": {},
   "outputs": [],
   "source": [
    "# kinda global variable\n",
    "seq_len = 256\n",
    "embdim = 512\n",
    "vocab_size = engvocabsize"
   ]
  },
  {
   "cell_type": "code",
   "execution_count": 9,
   "metadata": {},
   "outputs": [],
   "source": [
    "import torch\n",
    "import torch.nn as nn"
   ]
  },
  {
   "cell_type": "code",
   "execution_count": null,
   "metadata": {},
   "outputs": [],
   "source": [
    "class InputEmbeddings(nn.Module):\n",
    "    \"\"\"\n",
    "    Takes (B, S) and adds C dim\n",
    "    (B, S) => (B, S, C)\n",
    "    \"\"\"\n",
    "\n",
    "    def __init__(self, vocab_size, embdim):\n",
    "        super().__init__()\n",
    "        self.embdim = embdim\n",
    "        self.embeddings = nn.Embedding(vocab_size, embdim)\n",
    "\n",
    "    def forward(self, x):\n",
    "        # diving by (self.embdim)**(1/2) for nice numbers/to keep var small\n",
    "        return self.embeddings(x) / (self.embdim) ** (1 / 2)"
   ]
  },
  {
   "cell_type": "code",
   "execution_count": null,
   "metadata": {},
   "outputs": [],
   "source": [
    "class PositionalEmbeddings(nn.Module):\n",
    "    \"\"\"\n",
    "    Transformers do not have understanding of positions.\n",
    "    So we add positions vector to it.\n",
    "    (B,S,C) => (B,S,C)\n",
    "    \"\"\"\n",
    "\n",
    "    def __init__(self, seq_len, embdim):\n",
    "        super().__init__()\n",
    "\n",
    "        # self.pe is a lookup matrix of shape (S, E), self.pe[i] represents ith seq\n",
    "        self.pe = torch.zeros(seq_len, embdim)\n",
    "\n",
    "        # positions is just the sequence of the position from 0,seq_len, shape => (SEQ_LEN, 1)\n",
    "        positions = torch.arange(0, seq_len, dtype=torch.float32).unsqueeze(1)\n",
    "        # SHAPE(256)\n",
    "        emb_skip_dim = torch.arange(0, embdim, step=2, dtype=torch.float32)\n",
    "        # (seqlen, 1) / (256) => (seqlen, 256)\n",
    "        z = positions / (10000 ** (emb_skip_dim / embdim))\n",
    "\n",
    "        self.pe[:, 0::2] = torch.sin(z)\n",
    "        self.pe[:, 1::2] = torch.cos(z)\n",
    "\n",
    "        # if you want we can unsqueeze to add B dim in self.pe if not it will broadcast\n",
    "        # in Vanilla Transformer, Positional Encodings are not learnt\n",
    "        self.pe = nn.Parameter(self.pe, requires_grad=True)\n",
    "\n",
    "    def forward(self, x):\n",
    "        # x shape=> (B,T,C)\n",
    "        B, T, C = x.shape\n",
    "        # only adding upto T (Seq len)\n",
    "        x = x + self.pe[:T, :]\n",
    "        return x"
   ]
  },
  {
   "cell_type": "code",
   "execution_count": null,
   "metadata": {},
   "outputs": [],
   "source": [
    "class LayerNormalization(nn.Module):\n",
    "    \"\"\"\n",
    "    Layer Norm Implementation\n",
    "    \"\"\"\n",
    "\n",
    "    def __init__(self, embdim):\n",
    "        super().__init__()\n",
    "        self.alpha = nn.Parameter(torch.ones(embdim))\n",
    "        self.beta = nn.Parameter(torch.zeros(embdim))\n",
    "\n",
    "    def forward(self, x):\n",
    "        xmean = x.mean(dim=-1, keepdim=True)\n",
    "        xstd = x.std(dim=-1, keepdim=True)\n",
    "        out = self.alpha * ((x - xmean) / (xstd + 1e-6)) + self.beta\n",
    "        return out"
   ]
  },
  {
   "cell_type": "code",
   "execution_count": null,
   "metadata": {},
   "outputs": [],
   "source": [
    "class MultiHeadAttention(nn.Module):\n",
    "    \"\"\"\n",
    "    Crux of transformer, Multi Head Attention\n",
    "    Each token gets information from other token,\n",
    "    \"\"\"\n",
    "\n",
    "    def __init__(self, embdim, num_heads):\n",
    "        super().__init__()\n",
    "        self.embdim = embdim\n",
    "        self.num_heads = num_heads\n",
    "        self.query = nn.Linear(embdim, embdim)\n",
    "        self.key = nn.Linear(embdim, embdim)\n",
    "        self.value = nn.Linear(embdim, embdim)\n",
    "        self.out = nn.Linear(embdim, embdim)\n",
    "        assert (\n",
    "            embdim % num_heads == 0\n",
    "        ), \"Embdim: {embdim} must be divisible by Num_Heads: {num_heads}\"\n",
    "        self.num_heads = num_heads\n",
    "        self.head_dim = embdim // num_heads\n",
    "\n",
    "    @staticmethod\n",
    "    def attention(q, k, v, mask):\n",
    "\n",
    "        head_dim = q.shape[-1]\n",
    "        # attention\n",
    "        attention_scores = (q @ k.tranpose(-2, -1)) / (head_dim) ** (1 / 2)\n",
    "\n",
    "        attention_scores.masked_fill_(mask == 0, float(\"-inf\"))\n",
    "\n",
    "        output = attention_scores @ v\n",
    "        return output, attention_scores\n",
    "\n",
    "    def forward(self, q, k, v, mask):\n",
    "        \"\"\"\n",
    "        for encoder we only apply pad mask and for inital MHA we apply causal mask + pad mask\n",
    "        i have applied & operator between causal mask and pad mask\n",
    "        resulting into a single mask\n",
    "\n",
    "        for cross attention, q is from the target and k and v comes from source, mask also comes from source.\n",
    "        \"\"\"\n",
    "\n",
    "        # q,k,v size => (B,T,C)\n",
    "        B, T, C = q.shape\n",
    "        q = self.query(q)\n",
    "        k = self.key(k)\n",
    "        v = self.value(v)\n",
    "        # q,k,v size => (B,T,C)\n",
    "\n",
    "        # resizing\n",
    "        q = q.view(q.shape[0], q.shape[1], self.num_heads, self.head_dim).tranpose(1, 2)\n",
    "        k = k.view(k.shape[0], k.shape[1], self.num_heads, self.head_dim).tranpose(1, 2)\n",
    "        v = v.view(v.shape[0], v.shape[1], self.num_heads, self.head_dim).tranpose(1, 2)\n",
    "\n",
    "        output, attention = MultiHeadAttention.attention(q, k, v, mask)\n",
    "\n",
    "        # shape of output=> (B, NH, T, H)\n",
    "        # shape of attention => (B, NH, SQ, SQ)\n",
    "        # shape of output => (B,T,C)\n",
    "        output = output.tranpose(1, 2).contiguous().view(B, T, C)\n",
    "\n",
    "        return self.out(output)"
   ]
  },
  {
   "cell_type": "code",
   "execution_count": null,
   "metadata": {},
   "outputs": [],
   "source": [
    "class FeedForward(nn.Module):\n",
    "    \"\"\"\n",
    "    A FeedForward layer,\n",
    "    In MHA, each token attends to another token so once we have infromation we use FeedForward to process those information\n",
    "    \"\"\"\n",
    "\n",
    "    def __init__(self, embdim):\n",
    "        super().__init__()\n",
    "        self.ffd = nn.Sequential(\n",
    "            nn.Linear(embdim, 4 * embdim), nn.ReLU(), nn.Linear(4 * embdim, embdim)\n",
    "        )\n",
    "\n",
    "    def forward(self, x):\n",
    "        # shape of x=> (B,T,C)\n",
    "        return self.ffd(x)"
   ]
  },
  {
   "cell_type": "code",
   "execution_count": null,
   "metadata": {},
   "outputs": [],
   "source": [
    "class EncoderBlock(nn.Module):\n",
    "    \"\"\"\n",
    "    A single encoder block\n",
    "    \"\"\"\n",
    "\n",
    "    def __init__(self, embdim, num_heads):\n",
    "        super().__init__()\n",
    "        self.attn = MultiHeadAttention(embdim, num_heads)\n",
    "        self.layernorm1 = LayerNormalization(embdim)\n",
    "        self.ffd = FeedForward(embdim)\n",
    "        self.layernorm2 = LayerNormalization(embdim)\n",
    "\n",
    "    def forward(self, x, mask):\n",
    "        x = x + self.attn(x, x, x, mask)\n",
    "        x = self.layernorm1(x)\n",
    "        x = x + self.ffd(x)\n",
    "        x = self.layernorm2(x)\n",
    "        return x"
   ]
  },
  {
   "cell_type": "code",
   "execution_count": null,
   "metadata": {},
   "outputs": [],
   "source": [
    "class DecoderBlock(nn.Module):\n",
    "    \"\"\"\n",
    "    A single decoder block\n",
    "    \"\"\"\n",
    "\n",
    "    def __init__(self, embdim, num_heads):\n",
    "        super().__init__()\n",
    "        self.selfattn = MultiHeadAttention(embdim, num_heads)\n",
    "        self.crossattn = MultiHeadAttention(embdim, num_heads)\n",
    "        self.ffd = FeedForward(embdim)\n",
    "        self.layernorm1 = LayerNormalization(embdim)\n",
    "        self.layernorm2 = LayerNormalization(embdim)\n",
    "        self.layernorm3 = LayerNormalization(embdim)\n",
    "\n",
    "    def forward(self, x, encoder_output, src_mask, tgt_mask):\n",
    "\n",
    "        # adding x to itself for skip connection\n",
    "        x = x + self.selfattn(x, x, x, tgt_mask)\n",
    "        x = self.layernorm1(x)\n",
    "\n",
    "        x = x + self.crossattn(x, encoder_output, encoder_output, src_mask)\n",
    "        x = self.layernorm2(x)\n",
    "\n",
    "        x = x + self.ffd(x)\n",
    "        return self.layernorm3(x)"
   ]
  },
  {
   "cell_type": "code",
   "execution_count": null,
   "metadata": {},
   "outputs": [],
   "source": [
    "class Encoder(nn.Module):\n",
    "    \"\"\"\n",
    "    Class to handle N Encoder Block\n",
    "    \"\"\"\n",
    "\n",
    "    def __init__(self, layers):\n",
    "        super().__init__()\n",
    "        self.layers = layers\n",
    "\n",
    "    def forward(self, x, mask):\n",
    "        for layer in self.layers:\n",
    "            x = layer(x, mask)\n",
    "        return x"
   ]
  },
  {
   "cell_type": "code",
   "execution_count": null,
   "metadata": {},
   "outputs": [],
   "source": [
    "class Decoder(nn.Module):\n",
    "    \"\"\"\n",
    "    Class to handle N Decoder Block\n",
    "    \"\"\"\n",
    "\n",
    "    def __init__(self, layers):\n",
    "        super().__init__()\n",
    "        self.layers = layers\n",
    "\n",
    "    def forward(self, x, encoder_output, src_mask, tgt_mask):\n",
    "        for layer in self.layers:\n",
    "            x = layer(x, encoder_output, src_mask, tgt_mask)\n",
    "        return x"
   ]
  },
  {
   "cell_type": "code",
   "execution_count": null,
   "metadata": {},
   "outputs": [],
   "source": [
    "class FinalProjection(nn.Module):\n",
    "    \"\"\"\n",
    "    Final Projection to convert from embdim to vocab_size\n",
    "    \"\"\"\n",
    "\n",
    "    def __init__(self, embdim, vocab_size):\n",
    "        super().__init__()\n",
    "        self.proj = nn.Linear(embdim, vocab_size)\n",
    "\n",
    "    def forward(self, x):\n",
    "        # shape of x => (B,T,C)\n",
    "        # changing x to (B,T,VOCAB_SIZE)\n",
    "        return self.proj(x)"
   ]
  },
  {
   "cell_type": "code",
   "execution_count": null,
   "metadata": {},
   "outputs": [],
   "source": [
    "class Transformer(nn.Module):\n",
    "    \"\"\"\n",
    "    A class that builds everything\n",
    "    \"\"\"\n",
    "\n",
    "    def __init__(self, encoder, decoder, src_emb, src_pos, tgt_emb, tgt_pos, finalproj):\n",
    "        super().__init__()\n",
    "        self.encoder = encoder\n",
    "        self.decoder = decoder\n",
    "        self.src_emb = src_emb\n",
    "        self.src_pos = src_pos\n",
    "        self.tgt_emb = tgt_emb\n",
    "        self.tgt_pos = tgt_pos\n",
    "        self.finalproj = finalproj\n",
    "\n",
    "    def encoder_fun(self, x, mask):\n",
    "        x = self.src_emb(x)\n",
    "        x = self.src_pos(x)\n",
    "        return self.encoder(x, mask)\n",
    "\n",
    "    def decoder_fun(self, x, encoder_output, src_mask, tgt_mask):\n",
    "        x = self.tgt_emb(x)\n",
    "        x = self.tgt_pos(x)\n",
    "        return self.decoder(x, encoder_output, src_mask, tgt_mask)\n",
    "\n",
    "    def projection(self, x):\n",
    "        return self.finalproj(x)"
   ]
  },
  {
   "cell_type": "code",
   "execution_count": null,
   "metadata": {},
   "outputs": [],
   "source": [
    "def build_transformer(\n",
    "    src_vocab_size,\n",
    "    src_seq_len,\n",
    "    tgt_vocab_size,\n",
    "    tgt_seq_len,\n",
    "    embdim,\n",
    "    encoder_depth,\n",
    "    decoder_depth,\n",
    "    num_heads,\n",
    "):\n",
    "    src_emb = InputEmbeddings(src_vocab_size, embdim)\n",
    "    src_pos = PositionalEmbeddings(src_seq_len, embdim)\n",
    "\n",
    "    tgt_emb = InputEmbeddings(tgt_vocab_size, embdim)\n",
    "    tgt_pos = PositionalEmbeddings(tgt_seq_len, embdim)\n",
    "\n",
    "    encoder_blocks = []\n",
    "\n",
    "    for _ in range(encoder_depth):\n",
    "        encoder_block = EncoderBlock(embdim, num_heads)\n",
    "        encoder_blocks.append(encoder_block)\n",
    "\n",
    "    decoder_blocks = []\n",
    "\n",
    "    for _ in range(decoder_depth):\n",
    "        decoder_block = DecoderBlock(embdim, num_heads)\n",
    "        decoder_blocks.append(decoder_block)\n",
    "\n",
    "    encoder = Encoder(nn.ModuleList(encoder_blocks))\n",
    "    decoder = Decoder(nn.ModuleList(decoder_blocks))\n",
    "    finalproj = FinalProjection(embdim, tgt_vocab_size)\n",
    "\n",
    "    transformer = Transformer(\n",
    "        encoder, decoder, src_emb, src_pos, tgt_emb, tgt_pos, finalproj\n",
    "    )\n",
    "\n",
    "    return transformer"
   ]
  },
  {
   "cell_type": "code",
   "execution_count": 10,
   "metadata": {},
   "outputs": [],
   "source": [
    "# src_vocab_size,\n",
    "# src_seq_len,\n",
    "# tgt_vocab_size,\n",
    "# tgt_seq_len,\n",
    "# embdim,\n",
    "# encoder_depth,\n",
    "# decoder_depth,\n",
    "# num_heads,\n",
    "\n",
    "# transformer = build_transformer(\n",
    "#     engtokenizer.get_vocab_size(), 256, neptokenizer.get_vocab_size(), 256, 512, 4, 4, 8\n",
    "# )"
   ]
  },
  {
   "cell_type": "code",
   "execution_count": 20,
   "metadata": {},
   "outputs": [],
   "source": [
    "from model import build_transformer\n",
    "\n",
    "transformer = 1\n",
    "\n",
    "t = build_transformer(\n",
    "    engtokenizer.get_vocab_size(), 256, neptokenizer.get_vocab_size(), 256, 512, 4, 4, 8\n",
    ")"
   ]
  },
  {
   "cell_type": "code",
   "execution_count": 21,
   "metadata": {},
   "outputs": [
    {
     "ename": "AttributeError",
     "evalue": "'Tensor' object has no attribute 'tranpose'",
     "output_type": "error",
     "traceback": [
      "\u001b[0;31m---------------------------------------------------------------------------\u001b[0m",
      "\u001b[0;31mAttributeError\u001b[0m                            Traceback (most recent call last)",
      "\u001b[1;32m/Users/shusanketbasyal/Documents/GitHub/PROJECTS/ML/ItsAllRelative/VanillaTransformer/ipynb/loaddata.ipynb Cell 24\u001b[0m line \u001b[0;36m8\n\u001b[1;32m      <a href='vscode-notebook-cell:/Users/shusanketbasyal/Documents/GitHub/PROJECTS/ML/ItsAllRelative/VanillaTransformer/ipynb/loaddata.ipynb#X52sZmlsZQ%3D%3D?line=4'>5</a>\u001b[0m dec_mask \u001b[39m=\u001b[39m x[\u001b[39m\"\u001b[39m\u001b[39mdecoder_mask\u001b[39m\u001b[39m\"\u001b[39m]\n\u001b[1;32m      <a href='vscode-notebook-cell:/Users/shusanketbasyal/Documents/GitHub/PROJECTS/ML/ItsAllRelative/VanillaTransformer/ipynb/loaddata.ipynb#X52sZmlsZQ%3D%3D?line=5'>6</a>\u001b[0m label \u001b[39m=\u001b[39m x[\u001b[39m\"\u001b[39m\u001b[39mlabel\u001b[39m\u001b[39m\"\u001b[39m]\n\u001b[0;32m----> <a href='vscode-notebook-cell:/Users/shusanketbasyal/Documents/GitHub/PROJECTS/ML/ItsAllRelative/VanillaTransformer/ipynb/loaddata.ipynb#X52sZmlsZQ%3D%3D?line=7'>8</a>\u001b[0m encoder_output \u001b[39m=\u001b[39m t\u001b[39m.\u001b[39mencoder_fun(enc_input, enc_mask)\n\u001b[1;32m      <a href='vscode-notebook-cell:/Users/shusanketbasyal/Documents/GitHub/PROJECTS/ML/ItsAllRelative/VanillaTransformer/ipynb/loaddata.ipynb#X52sZmlsZQ%3D%3D?line=8'>9</a>\u001b[0m \u001b[39mprint\u001b[39m(encoder_output\u001b[39m.\u001b[39mshape)\n\u001b[1;32m     <a href='vscode-notebook-cell:/Users/shusanketbasyal/Documents/GitHub/PROJECTS/ML/ItsAllRelative/VanillaTransformer/ipynb/loaddata.ipynb#X52sZmlsZQ%3D%3D?line=10'>11</a>\u001b[0m \u001b[39mbreak\u001b[39;00m\n",
      "File \u001b[0;32m~/Documents/GitHub/PROJECTS/ML/ItsAllRelative/VanillaTransformer/ipynb/../src/model.py:268\u001b[0m, in \u001b[0;36mTransformer.encoder_fun\u001b[0;34m(self, x, mask)\u001b[0m\n\u001b[1;32m    266\u001b[0m x \u001b[39m=\u001b[39m \u001b[39mself\u001b[39m\u001b[39m.\u001b[39msrc_emb(x)\n\u001b[1;32m    267\u001b[0m x \u001b[39m=\u001b[39m \u001b[39mself\u001b[39m\u001b[39m.\u001b[39msrc_pos(x)\n\u001b[0;32m--> 268\u001b[0m \u001b[39mreturn\u001b[39;00m \u001b[39mself\u001b[39m\u001b[39m.\u001b[39mencoder(x, mask)\n",
      "File \u001b[0;32m/opt/anaconda3/lib/python3.12/site-packages/torch/nn/modules/module.py:1736\u001b[0m, in \u001b[0;36mModule._wrapped_call_impl\u001b[0;34m(self, *args, **kwargs)\u001b[0m\n\u001b[1;32m   1734\u001b[0m     \u001b[39mreturn\u001b[39;00m \u001b[39mself\u001b[39m\u001b[39m.\u001b[39m_compiled_call_impl(\u001b[39m*\u001b[39margs, \u001b[39m*\u001b[39m\u001b[39m*\u001b[39mkwargs)  \u001b[39m# type: ignore[misc]\u001b[39;00m\n\u001b[1;32m   1735\u001b[0m \u001b[39melse\u001b[39;00m:\n\u001b[0;32m-> 1736\u001b[0m     \u001b[39mreturn\u001b[39;00m \u001b[39mself\u001b[39m\u001b[39m.\u001b[39m_call_impl(\u001b[39m*\u001b[39margs, \u001b[39m*\u001b[39m\u001b[39m*\u001b[39mkwargs)\n",
      "File \u001b[0;32m/opt/anaconda3/lib/python3.12/site-packages/torch/nn/modules/module.py:1747\u001b[0m, in \u001b[0;36mModule._call_impl\u001b[0;34m(self, *args, **kwargs)\u001b[0m\n\u001b[1;32m   1742\u001b[0m \u001b[39m# If we don't have any hooks, we want to skip the rest of the logic in\u001b[39;00m\n\u001b[1;32m   1743\u001b[0m \u001b[39m# this function, and just call forward.\u001b[39;00m\n\u001b[1;32m   1744\u001b[0m \u001b[39mif\u001b[39;00m \u001b[39mnot\u001b[39;00m (\u001b[39mself\u001b[39m\u001b[39m.\u001b[39m_backward_hooks \u001b[39mor\u001b[39;00m \u001b[39mself\u001b[39m\u001b[39m.\u001b[39m_backward_pre_hooks \u001b[39mor\u001b[39;00m \u001b[39mself\u001b[39m\u001b[39m.\u001b[39m_forward_hooks \u001b[39mor\u001b[39;00m \u001b[39mself\u001b[39m\u001b[39m.\u001b[39m_forward_pre_hooks\n\u001b[1;32m   1745\u001b[0m         \u001b[39mor\u001b[39;00m _global_backward_pre_hooks \u001b[39mor\u001b[39;00m _global_backward_hooks\n\u001b[1;32m   1746\u001b[0m         \u001b[39mor\u001b[39;00m _global_forward_hooks \u001b[39mor\u001b[39;00m _global_forward_pre_hooks):\n\u001b[0;32m-> 1747\u001b[0m     \u001b[39mreturn\u001b[39;00m forward_call(\u001b[39m*\u001b[39margs, \u001b[39m*\u001b[39m\u001b[39m*\u001b[39mkwargs)\n\u001b[1;32m   1749\u001b[0m result \u001b[39m=\u001b[39m \u001b[39mNone\u001b[39;00m\n\u001b[1;32m   1750\u001b[0m called_always_called_hooks \u001b[39m=\u001b[39m \u001b[39mset\u001b[39m()\n",
      "File \u001b[0;32m~/Documents/GitHub/PROJECTS/ML/ItsAllRelative/VanillaTransformer/ipynb/../src/model.py:215\u001b[0m, in \u001b[0;36mEncoder.forward\u001b[0;34m(self, x, mask)\u001b[0m\n\u001b[1;32m    213\u001b[0m \u001b[39mdef\u001b[39;00m \u001b[39mforward\u001b[39m(\u001b[39mself\u001b[39m, x, mask):\n\u001b[1;32m    214\u001b[0m     \u001b[39mfor\u001b[39;00m layer \u001b[39min\u001b[39;00m \u001b[39mself\u001b[39m\u001b[39m.\u001b[39mlayers:\n\u001b[0;32m--> 215\u001b[0m         x  \u001b[39m=\u001b[39m layer(x, mask)\n\u001b[1;32m    216\u001b[0m     \u001b[39mreturn\u001b[39;00m x\n",
      "File \u001b[0;32m/opt/anaconda3/lib/python3.12/site-packages/torch/nn/modules/module.py:1736\u001b[0m, in \u001b[0;36mModule._wrapped_call_impl\u001b[0;34m(self, *args, **kwargs)\u001b[0m\n\u001b[1;32m   1734\u001b[0m     \u001b[39mreturn\u001b[39;00m \u001b[39mself\u001b[39m\u001b[39m.\u001b[39m_compiled_call_impl(\u001b[39m*\u001b[39margs, \u001b[39m*\u001b[39m\u001b[39m*\u001b[39mkwargs)  \u001b[39m# type: ignore[misc]\u001b[39;00m\n\u001b[1;32m   1735\u001b[0m \u001b[39melse\u001b[39;00m:\n\u001b[0;32m-> 1736\u001b[0m     \u001b[39mreturn\u001b[39;00m \u001b[39mself\u001b[39m\u001b[39m.\u001b[39m_call_impl(\u001b[39m*\u001b[39margs, \u001b[39m*\u001b[39m\u001b[39m*\u001b[39mkwargs)\n",
      "File \u001b[0;32m/opt/anaconda3/lib/python3.12/site-packages/torch/nn/modules/module.py:1747\u001b[0m, in \u001b[0;36mModule._call_impl\u001b[0;34m(self, *args, **kwargs)\u001b[0m\n\u001b[1;32m   1742\u001b[0m \u001b[39m# If we don't have any hooks, we want to skip the rest of the logic in\u001b[39;00m\n\u001b[1;32m   1743\u001b[0m \u001b[39m# this function, and just call forward.\u001b[39;00m\n\u001b[1;32m   1744\u001b[0m \u001b[39mif\u001b[39;00m \u001b[39mnot\u001b[39;00m (\u001b[39mself\u001b[39m\u001b[39m.\u001b[39m_backward_hooks \u001b[39mor\u001b[39;00m \u001b[39mself\u001b[39m\u001b[39m.\u001b[39m_backward_pre_hooks \u001b[39mor\u001b[39;00m \u001b[39mself\u001b[39m\u001b[39m.\u001b[39m_forward_hooks \u001b[39mor\u001b[39;00m \u001b[39mself\u001b[39m\u001b[39m.\u001b[39m_forward_pre_hooks\n\u001b[1;32m   1745\u001b[0m         \u001b[39mor\u001b[39;00m _global_backward_pre_hooks \u001b[39mor\u001b[39;00m _global_backward_hooks\n\u001b[1;32m   1746\u001b[0m         \u001b[39mor\u001b[39;00m _global_forward_hooks \u001b[39mor\u001b[39;00m _global_forward_pre_hooks):\n\u001b[0;32m-> 1747\u001b[0m     \u001b[39mreturn\u001b[39;00m forward_call(\u001b[39m*\u001b[39margs, \u001b[39m*\u001b[39m\u001b[39m*\u001b[39mkwargs)\n\u001b[1;32m   1749\u001b[0m result \u001b[39m=\u001b[39m \u001b[39mNone\u001b[39;00m\n\u001b[1;32m   1750\u001b[0m called_always_called_hooks \u001b[39m=\u001b[39m \u001b[39mset\u001b[39m()\n",
      "File \u001b[0;32m~/Documents/GitHub/PROJECTS/ML/ItsAllRelative/VanillaTransformer/ipynb/../src/model.py:170\u001b[0m, in \u001b[0;36mEncoderBlock.forward\u001b[0;34m(self, x, mask)\u001b[0m\n\u001b[1;32m    169\u001b[0m \u001b[39mdef\u001b[39;00m \u001b[39mforward\u001b[39m(\u001b[39mself\u001b[39m, x, mask):\n\u001b[0;32m--> 170\u001b[0m     x \u001b[39m=\u001b[39m x \u001b[39m+\u001b[39m \u001b[39mself\u001b[39m\u001b[39m.\u001b[39mattn(x, x, x, mask)\n\u001b[1;32m    171\u001b[0m     x \u001b[39m=\u001b[39m \u001b[39mself\u001b[39m\u001b[39m.\u001b[39mlayernorm1(x)\n\u001b[1;32m    172\u001b[0m     x \u001b[39m=\u001b[39m x \u001b[39m+\u001b[39m \u001b[39mself\u001b[39m\u001b[39m.\u001b[39mffd(x)\n",
      "File \u001b[0;32m/opt/anaconda3/lib/python3.12/site-packages/torch/nn/modules/module.py:1736\u001b[0m, in \u001b[0;36mModule._wrapped_call_impl\u001b[0;34m(self, *args, **kwargs)\u001b[0m\n\u001b[1;32m   1734\u001b[0m     \u001b[39mreturn\u001b[39;00m \u001b[39mself\u001b[39m\u001b[39m.\u001b[39m_compiled_call_impl(\u001b[39m*\u001b[39margs, \u001b[39m*\u001b[39m\u001b[39m*\u001b[39mkwargs)  \u001b[39m# type: ignore[misc]\u001b[39;00m\n\u001b[1;32m   1735\u001b[0m \u001b[39melse\u001b[39;00m:\n\u001b[0;32m-> 1736\u001b[0m     \u001b[39mreturn\u001b[39;00m \u001b[39mself\u001b[39m\u001b[39m.\u001b[39m_call_impl(\u001b[39m*\u001b[39margs, \u001b[39m*\u001b[39m\u001b[39m*\u001b[39mkwargs)\n",
      "File \u001b[0;32m/opt/anaconda3/lib/python3.12/site-packages/torch/nn/modules/module.py:1747\u001b[0m, in \u001b[0;36mModule._call_impl\u001b[0;34m(self, *args, **kwargs)\u001b[0m\n\u001b[1;32m   1742\u001b[0m \u001b[39m# If we don't have any hooks, we want to skip the rest of the logic in\u001b[39;00m\n\u001b[1;32m   1743\u001b[0m \u001b[39m# this function, and just call forward.\u001b[39;00m\n\u001b[1;32m   1744\u001b[0m \u001b[39mif\u001b[39;00m \u001b[39mnot\u001b[39;00m (\u001b[39mself\u001b[39m\u001b[39m.\u001b[39m_backward_hooks \u001b[39mor\u001b[39;00m \u001b[39mself\u001b[39m\u001b[39m.\u001b[39m_backward_pre_hooks \u001b[39mor\u001b[39;00m \u001b[39mself\u001b[39m\u001b[39m.\u001b[39m_forward_hooks \u001b[39mor\u001b[39;00m \u001b[39mself\u001b[39m\u001b[39m.\u001b[39m_forward_pre_hooks\n\u001b[1;32m   1745\u001b[0m         \u001b[39mor\u001b[39;00m _global_backward_pre_hooks \u001b[39mor\u001b[39;00m _global_backward_hooks\n\u001b[1;32m   1746\u001b[0m         \u001b[39mor\u001b[39;00m _global_forward_hooks \u001b[39mor\u001b[39;00m _global_forward_pre_hooks):\n\u001b[0;32m-> 1747\u001b[0m     \u001b[39mreturn\u001b[39;00m forward_call(\u001b[39m*\u001b[39margs, \u001b[39m*\u001b[39m\u001b[39m*\u001b[39mkwargs)\n\u001b[1;32m   1749\u001b[0m result \u001b[39m=\u001b[39m \u001b[39mNone\u001b[39;00m\n\u001b[1;32m   1750\u001b[0m called_always_called_hooks \u001b[39m=\u001b[39m \u001b[39mset\u001b[39m()\n",
      "File \u001b[0;32m~/Documents/GitHub/PROJECTS/ML/ItsAllRelative/VanillaTransformer/ipynb/../src/model.py:123\u001b[0m, in \u001b[0;36mMultiHeadAttention.forward\u001b[0;34m(self, q, k, v, mask)\u001b[0m\n\u001b[1;32m    119\u001b[0m v \u001b[39m=\u001b[39m \u001b[39mself\u001b[39m\u001b[39m.\u001b[39mvalue(v)\n\u001b[1;32m    120\u001b[0m \u001b[39m# q,k,v size => (B,T,C)\u001b[39;00m\n\u001b[1;32m    121\u001b[0m \n\u001b[1;32m    122\u001b[0m \u001b[39m# resizing \u001b[39;00m\n\u001b[0;32m--> 123\u001b[0m q \u001b[39m=\u001b[39m q\u001b[39m.\u001b[39mview(q\u001b[39m.\u001b[39mshape[\u001b[39m0\u001b[39m], q\u001b[39m.\u001b[39mshape[\u001b[39m1\u001b[39m], \u001b[39mself\u001b[39m\u001b[39m.\u001b[39mnum_heads, \u001b[39mself\u001b[39m\u001b[39m.\u001b[39mhead_dim)\u001b[39m.\u001b[39mtranpose(\u001b[39m1\u001b[39m,\u001b[39m2\u001b[39m)\n\u001b[1;32m    124\u001b[0m k \u001b[39m=\u001b[39m k\u001b[39m.\u001b[39mview(k\u001b[39m.\u001b[39mshape[\u001b[39m0\u001b[39m], k\u001b[39m.\u001b[39mshape[\u001b[39m1\u001b[39m], \u001b[39mself\u001b[39m\u001b[39m.\u001b[39mnum_heads, \u001b[39mself\u001b[39m\u001b[39m.\u001b[39mhead_dim)\u001b[39m.\u001b[39mtranpose(\u001b[39m1\u001b[39m,\u001b[39m2\u001b[39m)\n\u001b[1;32m    125\u001b[0m v \u001b[39m=\u001b[39m v\u001b[39m.\u001b[39mview(v\u001b[39m.\u001b[39mshape[\u001b[39m0\u001b[39m], v\u001b[39m.\u001b[39mshape[\u001b[39m1\u001b[39m], \u001b[39mself\u001b[39m\u001b[39m.\u001b[39mnum_heads, \u001b[39mself\u001b[39m\u001b[39m.\u001b[39mhead_dim)\u001b[39m.\u001b[39mtranpose(\u001b[39m1\u001b[39m,\u001b[39m2\u001b[39m)\n",
      "\u001b[0;31mAttributeError\u001b[0m: 'Tensor' object has no attribute 'tranpose'"
     ]
    }
   ],
   "source": [
    "for x in df_train_dataloader:\n",
    "    enc_input = x[\"encoder_input\"]\n",
    "    dec_input = x[\"decoder_input\"]\n",
    "    enc_mask = x[\"encoder_mask\"]\n",
    "    dec_mask = x[\"decoder_mask\"]\n",
    "    label = x[\"label\"]\n",
    "\n",
    "    encoder_output = t.encoder_fun(enc_input, enc_mask)\n",
    "    print(encoder_output.shape)\n",
    "\n",
    "    break"
   ]
  },
  {
   "cell_type": "code",
   "execution_count": null,
   "metadata": {},
   "outputs": [],
   "source": []
  },
  {
   "cell_type": "code",
   "execution_count": null,
   "metadata": {},
   "outputs": [],
   "source": []
  },
  {
   "cell_type": "code",
   "execution_count": null,
   "metadata": {},
   "outputs": [],
   "source": []
  },
  {
   "cell_type": "code",
   "execution_count": null,
   "metadata": {},
   "outputs": [],
   "source": []
  }
 ],
 "metadata": {
  "kernelspec": {
   "display_name": "base",
   "language": "python",
   "name": "python3"
  },
  "language_info": {
   "codemirror_mode": {
    "name": "ipython",
    "version": 3
   },
   "file_extension": ".py",
   "mimetype": "text/x-python",
   "name": "python",
   "nbconvert_exporter": "python",
   "pygments_lexer": "ipython3",
   "version": "3.12.4"
  }
 },
 "nbformat": 4,
 "nbformat_minor": 2
}
