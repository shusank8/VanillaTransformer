{
 "cells": [
  {
   "cell_type": "code",
   "execution_count": 3,
   "metadata": {},
   "outputs": [
    {
     "name": "stdout",
     "output_type": "stream",
     "text": [
      "loading dataset\n"
     ]
    }
   ],
   "source": [
    "print(\"loading dataset\")\n",
    "import kagglehub"
   ]
  },
  {
   "cell_type": "code",
   "execution_count": 4,
   "metadata": {},
   "outputs": [],
   "source": [
    "# # Download latest version\n",
    "# path = kagglehub.dataset_download(\"jigarpanjiyar/english-to-manipuri-dataset\")\n",
    "\n",
    "# print(\"Path to dataset files:\", path)"
   ]
  },
  {
   "cell_type": "code",
   "execution_count": 5,
   "metadata": {},
   "outputs": [],
   "source": [
    "import pandas as pd\n",
    "import os"
   ]
  },
  {
   "cell_type": "code",
   "execution_count": 6,
   "metadata": {},
   "outputs": [
    {
     "data": {
      "text/plain": [
       "['1_Eng.txt', 'english-nepali.xlsx', '1_Nepali.txt']"
      ]
     },
     "execution_count": 6,
     "metadata": {},
     "output_type": "execute_result"
    }
   ],
   "source": [
    "path = \"/Users/shusanketbasyal/.cache/kagglehub/datasets/jigarpanjiyar/english-to-manipuri-dataset/versions/1\"\n",
    "os.listdir(path)"
   ]
  },
  {
   "cell_type": "code",
   "execution_count": 7,
   "metadata": {},
   "outputs": [],
   "source": [
    "df = pd.read_excel(path + \"/english-nepali.xlsx\")"
   ]
  },
  {
   "cell_type": "code",
   "execution_count": 8,
   "metadata": {},
   "outputs": [],
   "source": [
    "df[\"english_sent\"] = df[\"english_sent\"].apply(lambda x: str(x))\n",
    "df[\"nepali_sent\"] = df[\"nepali_sent\"].apply(lambda x: str(x))"
   ]
  },
  {
   "cell_type": "code",
   "execution_count": 9,
   "metadata": {},
   "outputs": [],
   "source": [
    "eng = df[\"english_sent\"].tolist()\n",
    "nep = df[\"nepali_sent\"].tolist()"
   ]
  },
  {
   "cell_type": "code",
   "execution_count": 10,
   "metadata": {},
   "outputs": [
    {
     "data": {
      "text/html": [
       "<div>\n",
       "<style scoped>\n",
       "    .dataframe tbody tr th:only-of-type {\n",
       "        vertical-align: middle;\n",
       "    }\n",
       "\n",
       "    .dataframe tbody tr th {\n",
       "        vertical-align: top;\n",
       "    }\n",
       "\n",
       "    .dataframe thead th {\n",
       "        text-align: right;\n",
       "    }\n",
       "</style>\n",
       "<table border=\"1\" class=\"dataframe\">\n",
       "  <thead>\n",
       "    <tr style=\"text-align: right;\">\n",
       "      <th></th>\n",
       "      <th>english_sent</th>\n",
       "      <th>nepali_sent</th>\n",
       "    </tr>\n",
       "  </thead>\n",
       "  <tbody>\n",
       "    <tr>\n",
       "      <th>0</th>\n",
       "      <td>It happened after the death of Saul, when Davi...</td>\n",
       "      <td>दाऊदले अमालेकीहरूलाई हराएर पछि सिकलग गए। यो शा...</td>\n",
       "    </tr>\n",
       "    <tr>\n",
       "      <th>1</th>\n",
       "      <td>it happened on the third day, that behold, a m...</td>\n",
       "      <td>तब तेस्रो दिनमा एउटा जवान सैनिक सिकलगमा आयो। त...</td>\n",
       "    </tr>\n",
       "    <tr>\n",
       "      <th>2</th>\n",
       "      <td>David said to him, \"Where do you come from?\" H...</td>\n",
       "      <td>दाऊदले त्यसलाई सोधे, “तिमी कहाँबाट आयौ?” त्यस ...</td>\n",
       "    </tr>\n",
       "    <tr>\n",
       "      <th>3</th>\n",
       "      <td>David said to him, \"How did it go? Please tell...</td>\n",
       "      <td>दाऊदले भने, “मलाई भन, के भयो?” त्यसले भन्यो, “...</td>\n",
       "    </tr>\n",
       "    <tr>\n",
       "      <th>4</th>\n",
       "      <td>David said to the young man who told him, \"How...</td>\n",
       "      <td>दाऊदले त्यस सैनिकलाई भने, “तिमीले कसरी जान्यौ ...</td>\n",
       "    </tr>\n",
       "  </tbody>\n",
       "</table>\n",
       "</div>"
      ],
      "text/plain": [
       "                                        english_sent  \\\n",
       "0  It happened after the death of Saul, when Davi...   \n",
       "1  it happened on the third day, that behold, a m...   \n",
       "2  David said to him, \"Where do you come from?\" H...   \n",
       "3  David said to him, \"How did it go? Please tell...   \n",
       "4  David said to the young man who told him, \"How...   \n",
       "\n",
       "                                         nepali_sent  \n",
       "0  दाऊदले अमालेकीहरूलाई हराएर पछि सिकलग गए। यो शा...  \n",
       "1  तब तेस्रो दिनमा एउटा जवान सैनिक सिकलगमा आयो। त...  \n",
       "2  दाऊदले त्यसलाई सोधे, “तिमी कहाँबाट आयौ?” त्यस ...  \n",
       "3  दाऊदले भने, “मलाई भन, के भयो?” त्यसले भन्यो, “...  \n",
       "4  दाऊदले त्यस सैनिकलाई भने, “तिमीले कसरी जान्यौ ...  "
      ]
     },
     "execution_count": 10,
     "metadata": {},
     "output_type": "execute_result"
    }
   ],
   "source": [
    "df.head()"
   ]
  },
  {
   "cell_type": "code",
   "execution_count": 11,
   "metadata": {},
   "outputs": [
    {
     "data": {
      "text/plain": [
       "(151937, 151937)"
      ]
     },
     "execution_count": 11,
     "metadata": {},
     "output_type": "execute_result"
    }
   ],
   "source": [
    "len(eng), len(nep)"
   ]
  },
  {
   "cell_type": "code",
   "execution_count": 12,
   "metadata": {},
   "outputs": [],
   "source": [
    "eng_com = []\n",
    "nep_com = []\n",
    "eng_lens = []\n",
    "nep_lens = []\n",
    "step = 12\n",
    "for x in range(0, len(eng), step):\n",
    "    engobj = \" \".join(eng[x : x + step])\n",
    "    eng_com.append(engobj)\n",
    "    eng_lens.append(len(engobj.split(\" \")))\n",
    "\n",
    "    nepobj = \" \".join(nep[x : x + step])\n",
    "    nep_com.append(nepobj)\n",
    "    nep_lens.append(len(nepobj.split(\" \")))"
   ]
  },
  {
   "cell_type": "code",
   "execution_count": 13,
   "metadata": {},
   "outputs": [
    {
     "data": {
      "text/plain": [
       "1718"
      ]
     },
     "execution_count": 13,
     "metadata": {},
     "output_type": "execute_result"
    }
   ],
   "source": [
    "len(eng_com[0])"
   ]
  },
  {
   "cell_type": "code",
   "execution_count": 14,
   "metadata": {},
   "outputs": [
    {
     "data": {
      "text/plain": [
       "1385"
      ]
     },
     "execution_count": 14,
     "metadata": {},
     "output_type": "execute_result"
    }
   ],
   "source": [
    "len(nep_com[0])"
   ]
  },
  {
   "cell_type": "code",
   "execution_count": 15,
   "metadata": {},
   "outputs": [
    {
     "data": {
      "image/png": "[encoded data removed]",
      "text/plain": [
       "<Figure size 640x480 with 1 Axes>"
      ]
     },
     "metadata": {},
     "output_type": "display_data"
    }
   ],
   "source": [
    "import matplotlib.pyplot as plt\n",
    "from collections import Counter\n",
    "\n",
    "\n",
    "# Count occurrences\n",
    "counts = Counter(nep_lens)\n",
    "\n",
    "# Extract unique numbers and their counts\n",
    "x = list(counts.keys())\n",
    "y = list(counts.values())\n",
    "\n",
    "# Create the bar graph\n",
    "plt.bar(x, y)\n",
    "plt.xlabel(\"Number\")\n",
    "plt.ylabel(\"Occurrences\")\n",
    "plt.title(\"Occurrences of Each Number\")\n",
    "plt.show()"
   ]
  },
  {
   "cell_type": "code",
   "execution_count": 16,
   "metadata": {},
   "outputs": [
    {
     "data": {
      "text/plain": [
       "(12662, 12662)"
      ]
     },
     "execution_count": 16,
     "metadata": {},
     "output_type": "execute_result"
    }
   ],
   "source": [
    "# eng_com, # nep_com, # eng_lens\n",
    "len(eng_com), len(eng_lens)"
   ]
  },
  {
   "cell_type": "code",
   "execution_count": 17,
   "metadata": {},
   "outputs": [],
   "source": [
    "from tokenizers import Tokenizer\n",
    "from tokenizers.models import WordLevel\n",
    "from tokenizers.trainers import WordLevelTrainer\n",
    "from tokenizers.normalizers import Lowercase\n",
    "from tokenizers.pre_tokenizers import Punctuation, Sequence, Whitespace\n",
    "\n",
    "\n",
    "def build_load_tokenizer(lang, data):\n",
    "    if lang == \"eng\":\n",
    "        filename = \"engtokenizer.json\"\n",
    "    elif lang == \"nep\":\n",
    "        filename = \"neptokenizer.json\"\n",
    "    else:\n",
    "        return \"Not recognized language. {lang}\"\n",
    "\n",
    "    if os.path.isfile(filename):\n",
    "        # file exists\n",
    "        tokenizer = Tokenizer.from_file(filename)\n",
    "        return tokenizer\n",
    "\n",
    "    else:\n",
    "\n",
    "        tokenizer = Tokenizer(WordLevel(unk_token=\"[UNK]\"))\n",
    "        trainer = WordLevelTrainer(\n",
    "            special_tokens=[\"[UNK]\", \"[SOS]\", \"[PAD]\", \"[MASK]\", \"[EOS]\"]\n",
    "        )\n",
    "        tokenizer.pre_tokenizer = Sequence([Whitespace(), Punctuation()])\n",
    "        if lang == \"eng\":\n",
    "            tokenizer.normalizer = Lowercase()\n",
    "        tokenizer.train_from_iterator(data, trainer=trainer)\n",
    "        tokenizer.save(filename)\n",
    "        return tokenizer"
   ]
  },
  {
   "cell_type": "code",
   "execution_count": 18,
   "metadata": {},
   "outputs": [
    {
     "data": {
      "text/plain": [
       "(12662, 12662)"
      ]
     },
     "execution_count": 18,
     "metadata": {},
     "output_type": "execute_result"
    }
   ],
   "source": [
    "len(eng_com), len(nep_com)"
   ]
  },
  {
   "cell_type": "code",
   "execution_count": 19,
   "metadata": {},
   "outputs": [],
   "source": [
    "engtokenizer = build_load_tokenizer(\"eng\", eng_com)"
   ]
  },
  {
   "cell_type": "code",
   "execution_count": 20,
   "metadata": {},
   "outputs": [
    {
     "data": {
      "text/plain": [
       "1"
      ]
     },
     "execution_count": 20,
     "metadata": {},
     "output_type": "execute_result"
    }
   ],
   "source": [
    "engtokenizer.token_to_id(\"[SOS]\")"
   ]
  },
  {
   "cell_type": "code",
   "execution_count": 21,
   "metadata": {},
   "outputs": [],
   "source": [
    "neptokenizer = build_load_tokenizer(\"nep\", nep)"
   ]
  },
  {
   "cell_type": "code",
   "execution_count": 293,
   "metadata": {},
   "outputs": [],
   "source": [
    "from torch.utils.data import Dataset, random_split, DataLoader\n",
    "import torch"
   ]
  },
  {
   "cell_type": "code",
   "execution_count": 23,
   "metadata": {},
   "outputs": [],
   "source": [
    "# create the dataset to pass to pytorch dataset\n",
    "# eng_com and nep_com\n",
    "trainlen = int(0.9 * len(eng_com))\n",
    "data = {\"eng\": eng_com, \"nep\": nep_com}\n",
    "df_raw = pd.DataFrame(data)"
   ]
  },
  {
   "cell_type": "code",
   "execution_count": 24,
   "metadata": {},
   "outputs": [
    {
     "data": {
      "text/plain": [
       "12662"
      ]
     },
     "execution_count": 24,
     "metadata": {},
     "output_type": "execute_result"
    }
   ],
   "source": [
    "len(df_raw)"
   ]
  },
  {
   "cell_type": "code",
   "execution_count": 302,
   "metadata": {},
   "outputs": [],
   "source": [
    "class CustomDataset(Dataset):\n",
    "\n",
    "    # tgt and seq have\n",
    "    def __init__(self, ds, src_tokenizer, tgt_tokenizer, src, tgt, seq_len):\n",
    "        super().__init__()\n",
    "        self.df = ds\n",
    "        self.src_tokenizer = src_tokenizer\n",
    "        self.tgt_tokenizer = tgt_tokenizer\n",
    "        self.src = src\n",
    "        self.tgt = tgt\n",
    "        self.seq_len = seq_len\n",
    "\n",
    "        self.sos_token = torch.tensor(\n",
    "            [src_tokenizer.token_to_id(\"[SOS]\")], dtype=torch.int64\n",
    "        )\n",
    "\n",
    "        self.eos_token = torch.tensor(\n",
    "            [src_tokenizer.token_to_id(\"[EOS]\")], dtype=torch.int64\n",
    "        )\n",
    "\n",
    "        self.pad_token = torch.tensor(\n",
    "            [src_tokenizer.token_to_id(\"[PAD]\")], dtype=torch.int64\n",
    "        )\n",
    "\n",
    "    def __len__(self):\n",
    "        return len(self.df)\n",
    "\n",
    "    def __getitem__(self, index):\n",
    "        # get a single instance\n",
    "        src_target_pair = self.df.iloc[index]\n",
    "\n",
    "        # extract src and tgt\n",
    "        src_text = src_target_pair[\"eng\"]\n",
    "        tgt_text = src_target_pair[\"nep\"]\n",
    "\n",
    "        # encode the text to tokens\n",
    "        enc_input_tokens = self.src_tokenizer.encode(src_text).ids\n",
    "        dec_input_tokens = self.tgt_tokenizer.encode(tgt_text).ids\n",
    "\n",
    "        # add padding tokens(subtracting 2 beacuse we add SOS, EOS)\n",
    "        enc_num_padding_tokens = self.seq_len - len(enc_input_tokens) - 2\n",
    "        dec_num_padding_tokens = self.seq_len - len(dec_input_tokens) - 1\n",
    "\n",
    "        if enc_num_padding_tokens < 0 or dec_num_padding_tokens < 0:\n",
    "            raise ValueError(\"Sentence is too long\")\n",
    "\n",
    "        encoder_input = torch.cat(\n",
    "            [\n",
    "                self.sos_token,\n",
    "                torch.tensor(enc_input_tokens, dtype=torch.int64),\n",
    "                self.eos_token,\n",
    "                torch.tensor(\n",
    "                    [self.pad_token] * enc_num_padding_tokens, dtype=torch.int64\n",
    "                ),\n",
    "            ]\n",
    "        )\n",
    "\n",
    "        decoder_input = torch.cat(\n",
    "            [\n",
    "                self.sos_token,\n",
    "                torch.tensor(dec_input_tokens, dtype=torch.int64),\n",
    "                torch.tensor(\n",
    "                    [self.pad_token] * dec_num_padding_tokens, dtype=torch.int64\n",
    "                ),\n",
    "            ]\n",
    "        )\n",
    "\n",
    "        label = torch.cat(\n",
    "            [\n",
    "                torch.tensor(dec_input_tokens, dtype=torch.int64),\n",
    "                self.eos_token,\n",
    "                torch.tensor(\n",
    "                    [self.pad_token] * dec_num_padding_tokens, dtype=torch.int64\n",
    "                ),\n",
    "            ]\n",
    "        )\n",
    "\n",
    "        return {\n",
    "            \"encoder_input\": encoder_input,\n",
    "            \"decoder_input\": decoder_input,\n",
    "            \"label\": label,\n",
    "            # only mask padding token\n",
    "            \"encoder_mask\": (encoder_input != self.pad_token).int(),\n",
    "            \"decoder_mask\": (decoder_input != self.pad_token).int()\n",
    "            & causal_mask(decoder_input.size(0)),\n",
    "        }\n",
    "\n",
    "    def causal_mask(size):\n",
    "        x = torch.ones(size, size)\n",
    "        x = torch.tril(x)\n",
    "        return x"
   ]
  },
  {
   "cell_type": "code",
   "execution_count": 312,
   "metadata": {},
   "outputs": [],
   "source": [
    "train_ds = CustomDataset(df_raw, engtokenizer, neptokenizer, \"eng\", \"nep\", 512)\n",
    "train_dataloader = DataLoader(train_ds, batch_size=12, shuffle=True)"
   ]
  },
  {
   "cell_type": "code",
   "execution_count": 314,
   "metadata": {},
   "outputs": [
    {
     "name": "stdout",
     "output_type": "stream",
     "text": [
      "torch.Size([12, 512])\n",
      "torch.Size([12, 512])\n",
      "torch.Size([12, 512])\n",
      "torch.Size([12, 512])\n",
      "torch.Size([12, 512, 512])\n"
     ]
    }
   ],
   "source": [
    "for x in train_dataloader:\n",
    "    print(x[\"encoder_input\"].shape)\n",
    "    print(x[\"decoder_input\"].shape)\n",
    "    print(x[\"label\"].shape)\n",
    "    print(x[\"encoder_mask\"].shape)\n",
    "    print(x[\"decoder_mask\"].shape)\n",
    "    break"
   ]
  },
  {
   "cell_type": "code",
   "execution_count": 299,
   "metadata": {},
   "outputs": [],
   "source": [
    "text = df_raw.iloc[0]\n",
    "testeng = text[\"eng\"]\n",
    "testnep = text[\"nep\"]\n",
    "testeng = testeng[0:50]\n",
    "testnep = testnep[0:50]"
   ]
  },
  {
   "cell_type": "code",
   "execution_count": 271,
   "metadata": {},
   "outputs": [
    {
     "data": {
      "text/plain": [
       "'It happened after the death of Saul, when David wa'"
      ]
     },
     "execution_count": 271,
     "metadata": {},
     "output_type": "execute_result"
    }
   ],
   "source": [
    "testeng"
   ]
  },
  {
   "cell_type": "code",
   "execution_count": 272,
   "metadata": {},
   "outputs": [
    {
     "data": {
      "text/plain": [
       "'दाऊदले अमालेकीहरूलाई हराएर पछि सिकलग गए। यो शाऊलको'"
      ]
     },
     "execution_count": 272,
     "metadata": {},
     "output_type": "execute_result"
    }
   ],
   "source": [
    "testnep"
   ]
  },
  {
   "cell_type": "code",
   "execution_count": 273,
   "metadata": {},
   "outputs": [
    {
     "data": {
      "text/plain": [
       "[2]"
      ]
     },
     "execution_count": 273,
     "metadata": {},
     "output_type": "execute_result"
    }
   ],
   "source": [
    "sostoken = engtokenizer.encode(\"[SOS]\").ids\n",
    "eostoken = engtokenizer.encode(\"[EOS]\").ids\n",
    "padtoken = engtokenizer.encode(\"[PAD]\").ids\n",
    "padtoken"
   ]
  },
  {
   "cell_type": "code",
   "execution_count": 274,
   "metadata": {},
   "outputs": [],
   "source": [
    "seq_len = 15"
   ]
  },
  {
   "cell_type": "code",
   "execution_count": 275,
   "metadata": {},
   "outputs": [],
   "source": [
    "encoderinput = engtokenizer.encode(testeng).ids\n",
    "decoderinput = neptokenizer.encode(testnep).ids"
   ]
  },
  {
   "cell_type": "code",
   "execution_count": 276,
   "metadata": {},
   "outputs": [
    {
     "data": {
      "text/plain": [
       "(11, 9)"
      ]
     },
     "execution_count": 276,
     "metadata": {},
     "output_type": "execute_result"
    }
   ],
   "source": [
    "len(encoderinput), len(decoderinput)"
   ]
  },
  {
   "cell_type": "code",
   "execution_count": 277,
   "metadata": {},
   "outputs": [],
   "source": [
    "encoder_padd = seq_len - len(encoderinput) - 2\n",
    "decoder_padd = seq_len - len(decoderinput) - 1"
   ]
  },
  {
   "cell_type": "code",
   "execution_count": 278,
   "metadata": {},
   "outputs": [],
   "source": [
    "encoder_input = torch.cat(\n",
    "    [\n",
    "        torch.tensor(sostoken),\n",
    "        torch.tensor(encoderinput),\n",
    "        torch.tensor(eostoken),\n",
    "        torch.tensor(padtoken * encoder_padd),\n",
    "    ]\n",
    ")\n",
    "\n",
    "decoder_input = torch.cat(\n",
    "    [\n",
    "        torch.tensor(sostoken),\n",
    "        torch.tensor(decoderinput),\n",
    "        torch.tensor(padtoken * decoder_padd),\n",
    "    ]\n",
    ")\n",
    "\n",
    "label = torch.cat(\n",
    "    [\n",
    "        torch.tensor(decoderinput),\n",
    "        torch.tensor(eostoken),\n",
    "        torch.tensor(padtoken * decoder_padd),\n",
    "    ]\n",
    ")\n",
    "\n",
    "encoder_mask = (encoder_input != torch.tensor(padtoken)).int()\n",
    "decoder_mask = (decoder_input != torch.tensor(padtoken)).int() & causal_mask(\n",
    "    decoder_input.shape[0]\n",
    ")\n",
    "\n",
    "\n",
    "def causal_mask(size):\n",
    "    x = torch.ones(size, size, dtype=torch.int32)\n",
    "    x = torch.tril(x)\n",
    "    return x"
   ]
  },
  {
   "cell_type": "code",
   "execution_count": 279,
   "metadata": {},
   "outputs": [
    {
     "data": {
      "text/plain": [
       "(torch.Size([15]), torch.Size([15]), torch.Size([15]))"
      ]
     },
     "execution_count": 279,
     "metadata": {},
     "output_type": "execute_result"
    }
   ],
   "source": [
    "encoder_input.shape, decoder_input.shape, label.shape"
   ]
  },
  {
   "cell_type": "code",
   "execution_count": 280,
   "metadata": {},
   "outputs": [
    {
     "data": {
      "text/plain": [
       "tensor([    1,    24,   514,    78,     5,   521,     8,   714,     7,    63,\n",
       "          256, 19138,     4,     2,     2])"
      ]
     },
     "execution_count": 280,
     "metadata": {},
     "output_type": "execute_result"
    }
   ],
   "source": [
    "encoder_input"
   ]
  },
  {
   "cell_type": "code",
   "execution_count": 281,
   "metadata": {},
   "outputs": [
    {
     "data": {
      "text/plain": [
       "tensor([1, 1, 1, 1, 1, 1, 1, 1, 1, 1, 1, 1, 1, 0, 0], dtype=torch.int32)"
      ]
     },
     "execution_count": 281,
     "metadata": {},
     "output_type": "execute_result"
    }
   ],
   "source": [
    "encoder_mask"
   ]
  },
  {
   "cell_type": "code",
   "execution_count": 282,
   "metadata": {},
   "outputs": [
    {
     "data": {
      "text/plain": [
       "torch.Size([15])"
      ]
     },
     "execution_count": 282,
     "metadata": {},
     "output_type": "execute_result"
    }
   ],
   "source": [
    "encoder_mask.shape"
   ]
  },
  {
   "cell_type": "code",
   "execution_count": 283,
   "metadata": {},
   "outputs": [
    {
     "data": {
      "text/plain": [
       "tensor([    1,   564, 16520,  8581,   184, 23183,   258,     5,    15,  3953,\n",
       "            2,     2,     2,     2,     2])"
      ]
     },
     "execution_count": 283,
     "metadata": {},
     "output_type": "execute_result"
    }
   ],
   "source": [
    "decoder_input"
   ]
  },
  {
   "cell_type": "code",
   "execution_count": 284,
   "metadata": {},
   "outputs": [
    {
     "data": {
      "text/plain": [
       "tensor([[1, 0, 0, 0, 0, 0, 0, 0, 0, 0, 0, 0, 0, 0, 0],\n",
       "        [1, 1, 0, 0, 0, 0, 0, 0, 0, 0, 0, 0, 0, 0, 0],\n",
       "        [1, 1, 1, 0, 0, 0, 0, 0, 0, 0, 0, 0, 0, 0, 0],\n",
       "        [1, 1, 1, 1, 0, 0, 0, 0, 0, 0, 0, 0, 0, 0, 0],\n",
       "        [1, 1, 1, 1, 1, 0, 0, 0, 0, 0, 0, 0, 0, 0, 0],\n",
       "        [1, 1, 1, 1, 1, 1, 0, 0, 0, 0, 0, 0, 0, 0, 0],\n",
       "        [1, 1, 1, 1, 1, 1, 1, 0, 0, 0, 0, 0, 0, 0, 0],\n",
       "        [1, 1, 1, 1, 1, 1, 1, 1, 0, 0, 0, 0, 0, 0, 0],\n",
       "        [1, 1, 1, 1, 1, 1, 1, 1, 1, 0, 0, 0, 0, 0, 0],\n",
       "        [1, 1, 1, 1, 1, 1, 1, 1, 1, 1, 0, 0, 0, 0, 0],\n",
       "        [1, 1, 1, 1, 1, 1, 1, 1, 1, 1, 0, 0, 0, 0, 0],\n",
       "        [1, 1, 1, 1, 1, 1, 1, 1, 1, 1, 0, 0, 0, 0, 0],\n",
       "        [1, 1, 1, 1, 1, 1, 1, 1, 1, 1, 0, 0, 0, 0, 0],\n",
       "        [1, 1, 1, 1, 1, 1, 1, 1, 1, 1, 0, 0, 0, 0, 0],\n",
       "        [1, 1, 1, 1, 1, 1, 1, 1, 1, 1, 0, 0, 0, 0, 0]], dtype=torch.int32)"
      ]
     },
     "execution_count": 284,
     "metadata": {},
     "output_type": "execute_result"
    }
   ],
   "source": [
    "decoder_mask"
   ]
  },
  {
   "cell_type": "code",
   "execution_count": 285,
   "metadata": {},
   "outputs": [],
   "source": [
    "cm = causal_mask(seq_len)"
   ]
  },
  {
   "cell_type": "code",
   "execution_count": 286,
   "metadata": {},
   "outputs": [
    {
     "data": {
      "text/plain": [
       "(torch.Size([15, 15]), torch.Size([15, 15]))"
      ]
     },
     "execution_count": 286,
     "metadata": {},
     "output_type": "execute_result"
    }
   ],
   "source": [
    "decoder_mask.shape, cm.shape"
   ]
  },
  {
   "cell_type": "code",
   "execution_count": 291,
   "metadata": {},
   "outputs": [
    {
     "data": {
      "text/plain": [
       "tensor([[1, 0, 0, 0, 0, 0, 0, 0, 0, 0, 0, 0, 0, 0, 0],\n",
       "        [1, 1, 0, 0, 0, 0, 0, 0, 0, 0, 0, 0, 0, 0, 0],\n",
       "        [1, 1, 1, 0, 0, 0, 0, 0, 0, 0, 0, 0, 0, 0, 0],\n",
       "        [1, 1, 1, 1, 0, 0, 0, 0, 0, 0, 0, 0, 0, 0, 0],\n",
       "        [1, 1, 1, 1, 1, 0, 0, 0, 0, 0, 0, 0, 0, 0, 0],\n",
       "        [1, 1, 1, 1, 1, 1, 0, 0, 0, 0, 0, 0, 0, 0, 0],\n",
       "        [1, 1, 1, 1, 1, 1, 1, 0, 0, 0, 0, 0, 0, 0, 0],\n",
       "        [1, 1, 1, 1, 1, 1, 1, 1, 0, 0, 0, 0, 0, 0, 0],\n",
       "        [1, 1, 1, 1, 1, 1, 1, 1, 1, 0, 0, 0, 0, 0, 0],\n",
       "        [1, 1, 1, 1, 1, 1, 1, 1, 1, 1, 0, 0, 0, 0, 0],\n",
       "        [1, 1, 1, 1, 1, 1, 1, 1, 1, 1, 1, 0, 0, 0, 0],\n",
       "        [1, 1, 1, 1, 1, 1, 1, 1, 1, 1, 1, 1, 0, 0, 0],\n",
       "        [1, 1, 1, 1, 1, 1, 1, 1, 1, 1, 1, 1, 1, 0, 0],\n",
       "        [1, 1, 1, 1, 1, 1, 1, 1, 1, 1, 1, 1, 1, 1, 0],\n",
       "        [1, 1, 1, 1, 1, 1, 1, 1, 1, 1, 1, 1, 1, 1, 1]], dtype=torch.int32)"
      ]
     },
     "execution_count": 291,
     "metadata": {},
     "output_type": "execute_result"
    }
   ],
   "source": [
    "causal_mask(seq_len)"
   ]
  },
  {
   "cell_type": "code",
   "execution_count": 288,
   "metadata": {},
   "outputs": [
    {
     "data": {
      "text/plain": [
       "tensor([[1, 0, 0, 0, 0, 0, 0, 0, 0, 0, 0, 0, 0, 0, 0],\n",
       "        [1, 1, 0, 0, 0, 0, 0, 0, 0, 0, 0, 0, 0, 0, 0],\n",
       "        [1, 1, 1, 0, 0, 0, 0, 0, 0, 0, 0, 0, 0, 0, 0],\n",
       "        [1, 1, 1, 1, 0, 0, 0, 0, 0, 0, 0, 0, 0, 0, 0],\n",
       "        [1, 1, 1, 1, 1, 0, 0, 0, 0, 0, 0, 0, 0, 0, 0],\n",
       "        [1, 1, 1, 1, 1, 1, 0, 0, 0, 0, 0, 0, 0, 0, 0],\n",
       "        [1, 1, 1, 1, 1, 1, 1, 0, 0, 0, 0, 0, 0, 0, 0],\n",
       "        [1, 1, 1, 1, 1, 1, 1, 1, 0, 0, 0, 0, 0, 0, 0],\n",
       "        [1, 1, 1, 1, 1, 1, 1, 1, 1, 0, 0, 0, 0, 0, 0],\n",
       "        [1, 1, 1, 1, 1, 1, 1, 1, 1, 1, 0, 0, 0, 0, 0],\n",
       "        [1, 1, 1, 1, 1, 1, 1, 1, 1, 1, 0, 0, 0, 0, 0],\n",
       "        [1, 1, 1, 1, 1, 1, 1, 1, 1, 1, 0, 0, 0, 0, 0],\n",
       "        [1, 1, 1, 1, 1, 1, 1, 1, 1, 1, 0, 0, 0, 0, 0],\n",
       "        [1, 1, 1, 1, 1, 1, 1, 1, 1, 1, 0, 0, 0, 0, 0],\n",
       "        [1, 1, 1, 1, 1, 1, 1, 1, 1, 1, 0, 0, 0, 0, 0]], dtype=torch.int32)"
      ]
     },
     "execution_count": 288,
     "metadata": {},
     "output_type": "execute_result"
    }
   ],
   "source": [
    "decoder_mask"
   ]
  },
  {
   "cell_type": "code",
   "execution_count": 289,
   "metadata": {},
   "outputs": [
    {
     "data": {
      "text/plain": [
       "(torch.Size([15]),\n",
       " torch.Size([15]),\n",
       " torch.Size([15]),\n",
       " torch.Size([15]),\n",
       " torch.Size([15, 15]))"
      ]
     },
     "execution_count": 289,
     "metadata": {},
     "output_type": "execute_result"
    }
   ],
   "source": [
    "encoder_input.shape, decoder_input.shape, label.shape, encoder_mask.shape, decoder_mask.shape"
   ]
  },
  {
   "cell_type": "code",
   "execution_count": null,
   "metadata": {},
   "outputs": [],
   "source": []
  },
  {
   "cell_type": "code",
   "execution_count": null,
   "metadata": {},
   "outputs": [],
   "source": []
  }
 ],
 "metadata": {
  "kernelspec": {
   "display_name": "base",
   "language": "python",
   "name": "python3"
  },
  "language_info": {
   "codemirror_mode": {
    "name": "ipython",
    "version": 3
   },
   "file_extension": ".py",
   "mimetype": "text/x-python",
   "name": "python",
   "nbconvert_exporter": "python",
   "pygments_lexer": "ipython3",
   "version": "3.12.4"
  }
 },
 "nbformat": 4,
 "nbformat_minor": 2
}
