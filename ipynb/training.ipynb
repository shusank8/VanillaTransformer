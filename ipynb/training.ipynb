{
 "cells": [
  {
   "cell_type": "code",
   "execution_count": 1,
   "metadata": {},
   "outputs": [],
   "source": [
    "import sys\n",
    "\n",
    "sys.path.append(\"../src\")\n",
    "from tokenizer import get_tokenizer, get_data\n",
    "from torch.utils.data import Dataset, DataLoader\n",
    "from CustomDataLoader import CustomDataset\n",
    "\n",
    "\n",
    "dataset_path = (\n",
    "    \"/Users/shusanketbasyal/.cache/kagglehub/datasets/jigarpanjiyar/english-to-manipuri-dataset/versions/1\"\n",
    "    + \"//english-nepali.xlsx\"\n",
    ")\n",
    "\n",
    "engtokenizer, neptokenizer = get_tokenizer(dataset_path)\n",
    "\n",
    "df_train, df_test = get_data(dataset_path, split=True)\n",
    "\n",
    "engvocabsize = engtokenizer.get_vocab_size()\n",
    "nepvocabsize = neptokenizer.get_vocab_size()\n",
    "\n",
    "df_train_dataset = CustomDataset(\n",
    "    df_train, engtokenizer, neptokenizer, \"eng\", \"nep\", 256\n",
    ")\n",
    "df_test_dataset = CustomDataset(df_test, engtokenizer, neptokenizer, \"eng\", \"nep\", 256)\n",
    "\n",
    "df_train_dataloader = DataLoader(df_train_dataset, batch_size=1, shuffle=True)"
   ]
  },
  {
   "cell_type": "code",
   "execution_count": 2,
   "metadata": {},
   "outputs": [
    {
     "name": "stdout",
     "output_type": "stream",
     "text": [
      "torch.Size([1, 256])\n",
      "torch.Size([1, 256])\n",
      "torch.Size([1, 256])\n",
      "torch.Size([1, 256])\n",
      "torch.Size([1, 256, 256])\n"
     ]
    }
   ],
   "source": [
    "for x in df_train_dataloader:\n",
    "    enc_input = x[\"encoder_input\"]\n",
    "    dec_input = x[\"decoder_input\"]\n",
    "    enc_mask = x[\"encoder_mask\"]\n",
    "    dec_mask = x[\"decoder_mask\"]\n",
    "\n",
    "    print(enc_input.shape)\n",
    "    print(dec_input.shape)\n",
    "    print(x[\"label\"].shape)\n",
    "    print(enc_mask.shape)\n",
    "    print(dec_mask.shape)\n",
    "\n",
    "    break"
   ]
  },
  {
   "cell_type": "code",
   "execution_count": 7,
   "metadata": {},
   "outputs": [],
   "source": [
    "from model import build_transformer\n",
    "import torch\n",
    "import torch.nn as nn\n",
    "\n",
    "transformer = 1\n",
    "\n",
    "transformer = build_transformer(\n",
    "    engtokenizer.get_vocab_size(), 256, neptokenizer.get_vocab_size(), 256, 512, 4, 4, 8\n",
    ")"
   ]
  },
  {
   "cell_type": "code",
   "execution_count": 4,
   "metadata": {},
   "outputs": [
    {
     "name": "stdout",
     "output_type": "stream",
     "text": [
      "75797808\n"
     ]
    }
   ],
   "source": [
    "s = 0\n",
    "for p in transformer.parameters():\n",
    "    s += p.numel()\n",
    "print(s)"
   ]
  },
  {
   "cell_type": "code",
   "execution_count": 5,
   "metadata": {},
   "outputs": [],
   "source": [
    "# training loop\n",
    "device = torch.device()\n",
    "for x in df_train_dataloader:\n",
    "    enc_input = x[\"encoder_input\"]\n",
    "    dec_input = x[\"decoder_input\"]\n",
    "    enc_mask = x[\"encoder_mask\"]\n",
    "    dec_mask = x[\"decoder_mask\"]\n",
    "    label = x[\"label\"]\n",
    "\n",
    "    encoder_output = transformer.encoder_fun(enc_input, enc_mask)\n",
    "\n",
    "    decoder_output = transformer.decoder_fun(\n",
    "        dec_input, encoder_output, enc_mask, dec_mask\n",
    "    )\n",
    "    logits = transformer.projection(decoder_output)\n",
    "\n",
    "    break"
   ]
  },
  {
   "cell_type": "code",
   "execution_count": 6,
   "metadata": {},
   "outputs": [
    {
     "ename": "NameError",
     "evalue": "name 'torch' is not defined",
     "output_type": "error",
     "traceback": [
      "\u001b[0;31m---------------------------------------------------------------------------\u001b[0m",
      "\u001b[0;31mNameError\u001b[0m                                 Traceback (most recent call last)",
      "\u001b[1;32m/Users/shusanketbasyal/Documents/GitHub/PROJECTS/ML/ItsAllRelative/VanillaTransformer/ipynb/training.ipynb Cell 6\u001b[0m line \u001b[0;36m1\n\u001b[0;32m----> <a href='vscode-notebook-cell:/Users/shusanketbasyal/Documents/GitHub/PROJECTS/ML/ItsAllRelative/VanillaTransformer/ipynb/training.ipynb#W5sZmlsZQ%3D%3D?line=0'>1</a>\u001b[0m torch\n",
      "\u001b[0;31mNameError\u001b[0m: name 'torch' is not defined"
     ]
    }
   ],
   "source": [
    "torch"
   ]
  },
  {
   "cell_type": "code",
   "execution_count": null,
   "metadata": {},
   "outputs": [],
   "source": []
  }
 ],
 "metadata": {
  "kernelspec": {
   "display_name": "base",
   "language": "python",
   "name": "python3"
  },
  "language_info": {
   "codemirror_mode": {
    "name": "ipython",
    "version": 3
   },
   "file_extension": ".py",
   "mimetype": "text/x-python",
   "name": "python",
   "nbconvert_exporter": "python",
   "pygments_lexer": "ipython3",
   "version": "3.12.4"
  }
 },
 "nbformat": 4,
 "nbformat_minor": 2
}
